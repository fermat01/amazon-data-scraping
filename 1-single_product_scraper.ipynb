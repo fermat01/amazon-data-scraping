{
 "cells": [
  {
   "attachments": {},
   "cell_type": "markdown",
   "id": "f8d8badd",
   "metadata": {},
   "source": [
    "<h3>Import different libraries </h3>"
   ]
  },
  {
   "cell_type": "code",
   "execution_count": null,
   "id": "795fb5a5",
   "metadata": {},
   "outputs": [],
   "source": [
    "import requests \n",
    "from requests_html import HTML \n",
    "from selenium import webdriver\n",
    "from selenium.webdriver.chrome.options import Options\n",
    "from selenium.webdriver.common.by import By"
   ]
  },
  {
   "cell_type": "code",
   "execution_count": 2,
   "id": "5f779824-4de3-41ed-a6c1-6f3436141565",
   "metadata": {},
   "outputs": [],
   "source": [
    "from IPython.core.interactiveshell import InteractiveShell\n",
    "InteractiveShell.ast_node_interactivity = \"all\""
   ]
  },
  {
   "attachments": {},
   "cell_type": "markdown",
   "id": "2a3159fc",
   "metadata": {},
   "source": [
    "<p> Set up chromeDriver correctly </p>"
   ]
  },
  {
   "cell_type": "code",
   "execution_count": 3,
   "id": "756dc2f0-3ab8-4877-bf9f-0c1aca2da829",
   "metadata": {},
   "outputs": [],
   "source": [
    "options= Options()\n",
    "options.add_argument(\" --headless\")\n",
    "driver = webdriver.Chrome(options=options)"
   ]
  },
  {
   "attachments": {},
   "cell_type": "markdown",
   "id": "e1c2a28d",
   "metadata": {},
   "source": [
    "<h4> Set up a single product url</h4>\n",
    "\n",
    "<p> Here, it's up to we to choose the product </p>"
   ]
  },
  {
   "cell_type": "code",
   "execution_count": 4,
   "id": "0f1f6c78-c7f2-4dc8-9044-5bb62549b3c1",
   "metadata": {},
   "outputs": [],
   "source": [
    "url = \"https://www.amazon.com/Magnetic-Stationary-Exercise-Comfortable-Equipment/dp/B08KLBFW51/ref=sr_1_1_sspa?keywords=bike+fitness&qid=1637164244&s=sporting-goods&sr=1-1-spons&psc=1&spLa=ZW5jcnlwdGVkUXVhbGlmaWVyPUExSUs3SURBR1dURlIxJmVuY3J5cHRlZElkPUEwMTI1NjYzM0U0VTBQNk00MVIwRSZlbmNyeXB0ZWRBZElkPUEwMzc2NTgwWEZXU0VGTU1QTFJDJndpZGdldE5hbWU9c3BfYXRmJmFjdGlvbj1jbGlja1JlZGlyZWN0JmRvTm90TG9nQ2xpY2s9dHJ1ZQ==\"\n",
    "title_lookup = \"#productTitle\"\n",
    "price_lookup = \"#priceblock_ourprice\""
   ]
  },
  {
   "attachments": {},
   "cell_type": "markdown",
   "id": "5cd558ff",
   "metadata": {},
   "source": [
    "<p> Use some javascript DOM to find the body's element</p>"
   ]
  },
  {
   "cell_type": "code",
   "execution_count": 5,
   "id": "46042276-0635-4c1f-8c2d-696296b9ccd6",
   "metadata": {},
   "outputs": [],
   "source": [
    "driver.get(url)\n",
    "body_el = driver.find_element(By.CSS_SELECTOR,\"body\")\n",
    "html_str = body_el.get_attribute(\"innerHTML\")\n",
    "#print(html_str)"
   ]
  },
  {
   "cell_type": "code",
   "execution_count": 7,
   "id": "c2fddf08-3a61-43e4-b558-c3239ccc634e",
   "metadata": {},
   "outputs": [],
   "source": [
    "product_title = html_obj.find(title_lookup ,first=True).text\n",
    "#product_title "
   ]
  },
  {
   "cell_type": "code",
   "execution_count": 28,
   "id": "d993f76e-59fb-4309-8f8d-8bb59b48b407",
   "metadata": {},
   "outputs": [],
   "source": [
    "# request is not working \n",
    "#r = requests.get(url)\n",
    "#html_str = r.text"
   ]
  },
  {
   "cell_type": "code",
   "execution_count": 30,
   "id": "de8a6e5e-ff9c-483c-a959-28831728f05e",
   "metadata": {},
   "outputs": [
    {
     "name": "stdout",
     "output_type": "stream",
     "text": [
      "Fitness Synergy Magnetic Indoor Cycling Bike Stationary Exercise Bike, Super Silent Spin Bike with Comfortable Soft Seat Cushion, Ipad Holder with LCD Monitor for All Home Gym & Workout Equipment\n"
     ]
    }
   ],
   "source": [
    "print(driver.find_element(By.ID,'#productTitle').text)"
   ]
  },
  {
   "cell_type": "code",
   "execution_count": 8,
   "id": "5059d5d9-15f5-46d6-8042-67b338b8059c",
   "metadata": {},
   "outputs": [],
   "source": [
    "html_obj = HTML(html=html_str)"
   ]
  },
  {
   "cell_type": "code",
   "execution_count": 8,
   "id": "9cc4979e-d383-4dfb-bb7a-fabd4fc1e2cb",
   "metadata": {},
   "outputs": [],
   "source": [
    "#html_obj.find(title_lookup ,first=True).text"
   ]
  },
  {
   "cell_type": "markdown",
   "id": "6b040de4-4fa7-4825-b47c-b416a0c2f2ce",
   "metadata": {},
   "source": [
    "<h4> Getting title and price <h4>"
   ]
  },
  {
   "cell_type": "code",
   "execution_count": 19,
   "id": "393e204d-2c40-415d-9f4f-8eb6829dfb85",
   "metadata": {},
   "outputs": [
    {
     "data": {
      "text/plain": [
       "<HTML url='https://example.org/'>"
      ]
     },
     "execution_count": 19,
     "metadata": {},
     "output_type": "execute_result"
    }
   ],
   "source": [
    "html_obj."
   ]
  },
  {
   "attachments": {},
   "cell_type": "markdown",
   "id": "dd8d9b45",
   "metadata": {},
   "source": [
    "<p> Display product title </p>"
   ]
  },
  {
   "cell_type": "code",
   "execution_count": 47,
   "id": "9437b54a-1eb0-4284-b1c7-c5c6dd512987",
   "metadata": {},
   "outputs": [
    {
     "data": {
      "text/plain": [
       "'Fitness Synergy Magnetic Indoor Cycling Bike Stationary Exercise Bike, Super Silent Spin Bike with Comfortable Soft Seat Cushion, Ipad Holder with LCD Monitor for All Home Gym & Workout Equipment'"
      ]
     },
     "execution_count": 47,
     "metadata": {},
     "output_type": "execute_result"
    }
   ],
   "source": [
    "product_title = driver.find_element(By.ID,'productTitle').text\n",
    "product_title"
   ]
  },
  {
   "attachments": {},
   "cell_type": "markdown",
   "id": "e36d7195",
   "metadata": {},
   "source": [
    "<p> Display product price  </p>"
   ]
  },
  {
   "cell_type": "code",
   "execution_count": 51,
   "id": "e516596a-ac42-44bd-a0e7-2c2681982158",
   "metadata": {},
   "outputs": [
    {
     "data": {
      "text/plain": [
       "'$337.77'"
      ]
     },
     "execution_count": 51,
     "metadata": {},
     "output_type": "execute_result"
    }
   ],
   "source": [
    "product_price  = driver.find_element(By.XPATH,\"//span[@class='a-price a-text-price a-size-medium apexPriceToPay']\").text\n",
    "product_price  "
   ]
  },
  {
   "attachments": {},
   "cell_type": "markdown",
   "id": "f2500bad",
   "metadata": {},
   "source": [
    "<h3> Conclusion </h3>\n",
    "\n",
    "<p> This is how we scrape a single product to get product title and product price using selenium. Next, we'll see how to extend to product category and to the more products.</p>"
   ]
  }
 ],
 "metadata": {
  "kernelspec": {
   "display_name": "Python 3 (ipykernel)",
   "language": "python",
   "name": "python3"
  },
  "language_info": {
   "codemirror_mode": {
    "name": "ipython",
    "version": 3
   },
   "file_extension": ".py",
   "mimetype": "text/x-python",
   "name": "python",
   "nbconvert_exporter": "python",
   "pygments_lexer": "ipython3",
   "version": "3.7.6"
  }
 },
 "nbformat": 4,
 "nbformat_minor": 5
}
