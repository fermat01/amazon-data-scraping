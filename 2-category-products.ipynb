{
 "cells": [
  {
   "attachments": {},
   "cell_type": "markdown",
   "id": "f5bb69b0",
   "metadata": {},
   "source": [
    "<h2>Import different libraries </h2> "
   ]
  },
  {
   "cell_type": "code",
   "execution_count": null,
   "id": "abf73f59-514c-46ac-82af-6d50e46dec5f",
   "metadata": {},
   "outputs": [],
   "source": [
    "import os \n",
    "import time\n",
    "import requests \n",
    "from requests_html import HTML \n",
    "from selenium import webdriver\n",
    "from selenium.webdriver.chrome.options import Options\n",
    "from selenium.webdriver.common.by import By"
   ]
  },
  {
   "attachments": {},
   "cell_type": "markdown",
   "id": "aaf8dcf0",
   "metadata": {},
   "source": [
    "Define working directory"
   ]
  },
  {
   "cell_type": "code",
   "execution_count": 38,
   "id": "562f365a-6445-42de-a09c-aebaa29dddae",
   "metadata": {},
   "outputs": [
    {
     "data": {
      "text/plain": [
       "'/home/vianney/projects/data-science-projects/notebooks'"
      ]
     },
     "execution_count": 38,
     "metadata": {},
     "output_type": "execute_result"
    }
   ],
   "source": [
    "cwd = os.getcwd() # dirname of abs(path(__file__))\n",
    "BASE_DIR = os.path.dirname(cwd)\n",
    "BASE_DIR"
   ]
  },
  {
   "cell_type": "code",
   "execution_count": 39,
   "id": "756dc2f0-3ab8-4877-bf9f-0c1aca2da829",
   "metadata": {},
   "outputs": [],
   "source": [
    "options= Options()\n",
    "options.add_argument(\" --headless\")\n",
    "driver = webdriver.Chrome(options=options)"
   ]
  },
  {
   "attachments": {},
   "cell_type": "markdown",
   "id": "e73323cf",
   "metadata": {},
   "source": [
    "Set up product categories"
   ]
  },
  {
   "cell_type": "code",
   "execution_count": 40,
   "id": "50976893-b94e-49e3-9e55-b5330af4d7ca",
   "metadata": {},
   "outputs": [],
   "source": [
    "categories = [\n",
    "    \"https://www.amazon.com/Best-Sellers-Toys-Games/zgbs/toys-and-games/\",\n",
    "    \"https://www.amazon.com/Best-Sellers-Electronics/zgbs/electronics/\",\n",
    "    \"https://www.amazon.com/Best-Sellers/zgbs/fashion/\"\n",
    "    \n",
    "]\n",
    "    "
   ]
  },
  {
   "cell_type": "code",
   "execution_count": 41,
   "id": "7fb382c9-95f7-484d-a85c-d7bd7cbe193e",
   "metadata": {},
   "outputs": [
    {
     "data": {
      "text/plain": [
       "['https://www.amazon.com/Best-Sellers-Toys-Games/zgbs/toys-and-games/',\n",
       " 'https://www.amazon.com/Best-Sellers-Electronics/zgbs/electronics/',\n",
       " 'https://www.amazon.com/Best-Sellers/zgbs/fashion/']"
      ]
     },
     "execution_count": 41,
     "metadata": {},
     "output_type": "execute_result"
    }
   ],
   "source": [
    "categories"
   ]
  },
  {
   "cell_type": "code",
   "execution_count": 42,
   "id": "b2cf6ede-e227-4bac-8bd3-3961127c8fe2",
   "metadata": {},
   "outputs": [],
   "source": [
    "title_lookup = \"#productTitle\"\n",
    "price_lookup = \"#//span[@class='a-price a-text-price a-size-medium apexPriceToPay']\""
   ]
  },
  {
   "cell_type": "code",
   "execution_count": 43,
   "id": "0f1f6c78-c7f2-4dc8-9044-5bb62549b3c1",
   "metadata": {},
   "outputs": [],
   "source": [
    "first_url = categories[0] "
   ]
  },
  {
   "cell_type": "code",
   "execution_count": 44,
   "id": "b0c96fef-a67d-464a-b8fc-97cb08297e31",
   "metadata": {},
   "outputs": [],
   "source": [
    "driver.get(first_url)"
   ]
  },
  {
   "cell_type": "code",
   "execution_count": 46,
   "id": "71cec033-257d-4627-b390-e05c5e4b2cf3",
   "metadata": {},
   "outputs": [],
   "source": [
    "body_el = driver.find_element(By.CSS_SELECTOR,\"body\")\n",
    "html_str = body_el.get_attribute(\"innerHTML\")\n",
    "html_obj = HTML(html=html_str)"
   ]
  },
  {
   "cell_type": "code",
   "execution_count": 48,
   "id": "98e7ee12-0a73-4ff8-b5d7-db4e07c0e890",
   "metadata": {},
   "outputs": [],
   "source": [
    "#html_obj.links"
   ]
  },
  {
   "cell_type": "code",
   "execution_count": 49,
   "id": "bfe49d1d-ab25-4379-8430-567395b08954",
   "metadata": {},
   "outputs": [],
   "source": [
    "new_links = [x for x in html_obj.links if x.startswith(\"/\")]\n",
    "#new_links = [x for x in new_links if \"product_reviews/\" not in x]\n",
    "#print(new_links)"
   ]
  },
  {
   "cell_type": "code",
   "execution_count": 50,
   "id": "a77c64fb-c206-4f07-ab7a-b3df2f97da16",
   "metadata": {},
   "outputs": [],
   "source": [
    "page_links = [f\"https://www.amazon.com{x}\" for x in new_links]\n",
    "#page_links"
   ]
  },
  {
   "attachments": {},
   "cell_type": "markdown",
   "id": "682752c7",
   "metadata": {},
   "source": [
    "Define a function to scrapea product given url, title and the price"
   ]
  },
  {
   "cell_type": "code",
   "execution_count": 51,
   "id": "c60bd2bd-ee36-4830-9ff1-0c8e1a12d750",
   "metadata": {},
   "outputs": [],
   "source": [
    "def scrape_product_page(url, title_lookup = \"#productTitle\", price_lookup = \"#priceblock_ourprice\"):\n",
    "    driver.get(url)\n",
    "    time.sleep(1.2)\n",
    "    body_el = driver.find_element(By.CSS_SELECTOR,\"body\")\n",
    "    html_str = body_el.get_attribute(\"innerHTML\")\n",
    "    html_obj = HTML(html=html_str)\n",
    "    product_title = driver.find_element(By.ID,'productTitle').text\n",
    "    product_price = driver.find_element(By.XPATH,\"//span[@class='a-price a-text-price a-size-medium apexPriceToPay']\").text\n",
    "    return product_title , product_price"
   ]
  },
  {
   "cell_type": "code",
   "execution_count": 52,
   "id": "1634060d-b579-4b4e-99ce-f086ee6f9c10",
   "metadata": {},
   "outputs": [
    {
     "data": {
      "text/plain": [
       "'https://www.amazon.com/product-reviews/B07TJ6PDB9/ref=zg_bs_toys-and-games_cr_26/145-7140083-6798014?ie=UTF8&refRID=CM8EHKJ6G1ZB7P50PKF9'"
      ]
     },
     "execution_count": 52,
     "metadata": {},
     "output_type": "execute_result"
    }
   ],
   "source": [
    "first_product_page = page_links[0]\n",
    "first_product_page"
   ]
  },
  {
   "cell_type": "code",
   "execution_count": 53,
   "id": "25571e8b-a436-4a86-8b56-e5b0e1fe40f6",
   "metadata": {},
   "outputs": [
    {
     "data": {
      "text/plain": [
       "'https://www.amazon.com/product-reviews/B07TJ6PDB9/ref=zg_bs_toys-and-games_cr_26/145-7140083-6798014?ie=UTF8&refRID=CM8EHKJ6G1ZB7P50PKF9'"
      ]
     },
     "execution_count": 53,
     "metadata": {},
     "output_type": "execute_result"
    }
   ],
   "source": [
    "first_product_page = page_links[0]\n",
    "first_product_page"
   ]
  },
  {
   "attachments": {},
   "cell_type": "markdown",
   "id": "35c87174",
   "metadata": {},
   "source": [
    "Dealing with product title and price"
   ]
  },
  {
   "cell_type": "code",
   "execution_count": 54,
   "id": "61af2e4b-bed6-4c25-bac8-6dbb92547ca7",
   "metadata": {},
   "outputs": [
    {
     "name": "stdout",
     "output_type": "stream",
     "text": [
      "https://www.amazon.com/TeeTurtle-Reversible-Octopus-Plushie-Patented/dp/B092P3LW22/ref=zg_bs_toys-and-games_2/145-7140083-6798014?_encoding=UTF8&psc=1&refRID=CM8EHKJ6G1ZB7P50PKF9 TeeTurtle | The Moody Reversible Octopus Plushie | Patented Design | Sensory Fidget Toy for Stress Relief | Light Pink + Pink | Angry + Rage | Show Your Mood Without Saying a Word! $15.00\n",
      "https://www.amazon.com/Polly-Pocket-Surprises-Discover-Princess/dp/B084L1HW5P/ref=zg_bs_toys-and-games_5/145-7140083-6798014?_encoding=UTF8&psc=1&refRID=CM8EHKJ6G1ZB7P50PKF9 Polly Pocket Unicorn Party Large Compact Playset with Micro Polly & Lila Dolls, 25+ Surprises to Discover & Fun Princess Party Play Areas: Bouncy House, Castle, Swings, Water Floatie & More $24.99\n",
      "https://www.amazon.com/Taco-Cat-Goat-Cheese-Pizza/dp/B077Z1R28P/ref=zg_bs_toys-and-games_11/145-7140083-6798014?_encoding=UTF8&psc=1&refRID=CM8EHKJ6G1ZB7P50PKF9 Taco Cat Goat Cheese Pizza $9.99\n",
      "https://www.amazon.com/Seckton-Upgrade-Birthday-Portable-Card-Blue/dp/B087ZTH98B/ref=zg_bs_toys-and-games_28/145-7140083-6798014?_encoding=UTF8&psc=1&refRID=CM8EHKJ6G1ZB7P50PKF9 Seckton Upgrade Kids Selfie Camera, Christmas Birthday Gifts for Boys Age 3-9, HD Digital Video Cameras for Toddler, Portable Toy for 3 4 5 6 7 8 Year Old Boy with 32GB SD Card-Blue $42.99\n",
      "https://www.amazon.com/Playskool-Classic-Spinning-Activity-Toddlers/dp/B00YTWEMUO/ref=zg_bs_toys-and-games_20/145-7140083-6798014?_encoding=UTF8&psc=1&refRID=CM8EHKJ6G1ZB7P50PKF9 Playskool Sit ‘n Spin Classic Spinning Activity Toy for Toddlers Ages Over 18 Months (Amazon Exclusive),Multicolor $34.99\n",
      "https://www.amazon.com/First-Princess-Make-Kit-Everything/dp/B07FPWYY79/ref=zg_bs_toys-and-games_36/145-7140083-6798014?_encoding=UTF8&psc=1&refRID=CM8EHKJ6G1ZB7P50PKF9 FoxPrint My First Princess Make Up Kit - 12 Pc Kids Makeup Set Washable Makeup For Girls These Makeup Toys for Girls Include All Your Princess Needs To Play Dress Up Comes with Stylish Bag $13.40\n",
      "https://www.amazon.com/Cocomelon-Musical-Bedtime-Plush-Tummy/dp/B0855NLMWL/ref=zg_bs_toys-and-games_23/145-7140083-6798014?_encoding=UTF8&psc=1&refRID=CM8EHKJ6G1ZB7P50PKF9 CoComelon Official Musical Bedtime JJ Doll, Soft Plush Body – Press Tummy and JJ sings clips from ‘Yes, Yes, Bedtime Song,’ – Includes Feature Plush and Small Pillow Plush Teddy Bear – Toys for Babies $19.97\n",
      "https://www.amazon.com/Toys%E3%80%902021-Upgraded%E3%80%91Globe-Controller-Rotating-Spinning/dp/B08QTP3MLT/ref=zg_bs_toys-and-games_40/145-7140083-6798014?_encoding=UTF8&psc=1&refRID=CM8EHKJ6G1ZB7P50PKF9 Flying Ball Toys【2021 Upgraded】Globe Shape Magic Controller Mini Drone Flying Toy, Built-in RGB Lights Spinner 360° Rotating Spinning UFO Safe for Kids Adults Magic Flying Toys Outdoor Indoor (Blue) $39.99\n",
      "https://www.amazon.com/Dinosaur-Construction-Building-Electric-Birthday/dp/B08PCVYDZG/ref=zg_bs_toys-and-games_12/145-7140083-6798014?_encoding=UTF8&psc=1&refRID=CM8EHKJ6G1ZB7P50PKF9 Dinosaur Toys for 3 4 5 6 7 Year Old Boys, Take Apart Dinosaur Toys for Kids 3-5 5-7 STEM Construction Building Kids Toys with Electric Drill, Dinosaur Toys Christmas Birthday Gifts Boys Girls $23.75\n",
      "https://www.amazon.com/BUNMO-Pop-Tubes-Sensory-Toy/dp/B07MBW6JNL/ref=zg_bs_toys-and-games_18/145-7140083-6798014?_encoding=UTF8&psc=1&refRID=CM8EHKJ6G1ZB7P50PKF9 BunMo Pop Tubes Sensory Toys, Fine Motor Skills Stocking Stuffers Toddler Toys, Fidget Toys for Sensory Kids and Stocking Stuffers for Kids Learning Toys $5.99\n",
      "https://www.amazon.com/Sassy-Stacks-Circles-Stacking-Learning/dp/B07NXDJ52C/ref=zg_bs_toys-and-games_14/145-7140083-6798014?_encoding=UTF8&psc=1&refRID=CM8EHKJ6G1ZB7P50PKF9 Stacks of Circles Stacking Ring STEM Learning Toy, Age 6+ Months, Multi, 9 Piece Set $6.99\n",
      "https://www.amazon.com/Flybar-Jumper-Toddlers-Durable-Supports/dp/B00WTDXSDM/ref=zg_bs_toys-and-games_25/145-7140083-6798014?_encoding=UTF8&psc=1&refRID=CM8EHKJ6G1ZB7P50PKF9 Flybar My First Foam Pogo Jumper for Kids Fun and Safe Pogo Stick for Toddlers, Durable Foam and Bungee Jumper for Ages 3 and up, Supports up to 250lbs $16.99\n",
      "https://www.amazon.com/Kids-Against-Maturity-Original-Humanity/dp/B076PRWVFG/ref=zg_bs_toys-and-games_32/145-7140083-6798014?_encoding=UTF8&psc=1&refRID=CM8EHKJ6G1ZB7P50PKF9 Kids Against Maturity: Card Game for Kids and Families, Super Fun Hilarious for Family Party Game Night $29.99\n",
      "https://www.amazon.com/Fisher-Price-Rattle-Rock-Maracas-Orange/dp/B071FLSWBS/ref=zg_bs_toys-and-games_17/145-7140083-6798014?_encoding=UTF8&psc=1&refRID=CM8EHKJ6G1ZB7P50PKF9 Fisher-Price Rattle 'n Rock Maracas, Blue/Orange [Amazon Exclusive] 2 Count (Pack of 1) $5.94\n",
      "https://www.amazon.com/LEGO-Dinosaurs-31058-Pterodactyl-Triceratops/dp/B01KJEOCDW/ref=zg_bs_toys-and-games_13/145-7140083-6798014?_encoding=UTF8&psc=1&refRID=CM8EHKJ6G1ZB7P50PKF9 LEGO Creator Mighty Dinosaurs 31058 Build It Yourself Dinosaur Set, Create a Pterodactyl, Triceratops and T Rex Toy (174 Pieces) $11.98\n",
      "https://www.amazon.com/Crayola-Twistables-Crayons-Exclusive-Stocking/dp/B07D4T2XKB/ref=zg_bs_toys-and-games_31/145-7140083-6798014?_encoding=UTF8&psc=1&refRID=CM8EHKJ6G1ZB7P50PKF9 Crayola Twistables Crayons Coloring Set, Kids Craft Supplies, Gift, 50 Count $12.49\n",
      "https://www.amazon.com/Family-Sturdy-Storage-Travel-Friendly-Exclusive/dp/B07P6MZPK3/ref=zg_bs_toys-and-games_43/145-7140083-6798014?_encoding=UTF8&psc=1&refRID=CM8EHKJ6G1ZB7P50PKF9 UNO Family Card Game, with 112 Cards in a Sturdy Storage Tin, Travel-Friendly, Makes a Great Gift for 7 Year Olds and Up [Amazon Exclusive] $9.99\n",
      "https://www.amazon.com/Slinky-60100-Original-Brand/dp/B00000IZKX/ref=zg_bs_toys-and-games_50/145-7140083-6798014?_encoding=UTF8&psc=1&refRID=CM8EHKJ6G1ZB7P50PKF9 The Original Slinky Walking Spring Toy, Metal Slinky, Fidget Toys, Party Favors and Gifts, Toys for 5 Year Old Girls and Boys, by Just Play $3.49\n",
      "https://www.amazon.com/Poppers-Figetget-Spinners-Infinity-Autistic/dp/B0973R7JMP/ref=zg_bs_toys-and-games_21/145-7140083-6798014?_encoding=UTF8&psc=1&refRID=CM8EHKJ6G1ZB7P50PKF9 (50 Pcs) Fidget Poppers Popit Toy Pack Push Pop Bubble Popping Set It Mini Poppet Figit Package Figetget Spinners, Infinity Rubiks Cube Stress Relief Balls w Sensory Toys for Autistic ADHD Kids Girls $34.95\n",
      "https://www.amazon.com/VTech-Balls-Bulldozer-Amazon-Exclusive/dp/B07427NSPK/ref=zg_bs_toys-and-games_30/145-7140083-6798014?_encoding=UTF8&psc=1&refRID=CM8EHKJ6G1ZB7P50PKF9 VTech Pop-a-Balls Push and Pop Bulldozer Amazon Exclusive,Red $27.34\n",
      "https://www.amazon.com/Twister-Ultimate-Colored-Compatible-Exclusive/dp/B01ALHAEWA/ref=zg_bs_toys-and-games_6/145-7140083-6798014?_encoding=UTF8&psc=1&refRID=CM8EHKJ6G1ZB7P50PKF9 Twister Ultimate: Bigger Mat, More Colored Spots, Family, Kids Party Game Age 6+; Compatible with Alexa (Amazon Exclusive) $19.99\n",
      "https://www.amazon.com/Disney-Classic-Characters-Matching-Game/dp/B007DW6F34/ref=zg_bs_toys-and-games_38/145-7140083-6798014?_encoding=UTF8&psc=1&refRID=CM8EHKJ6G1ZB7P50PKF9 Wonder Forge Disney Classic Characters Matching Game for Boys & Girls Age 3 to 5 - A Fun & Fast Disney Memory Game , Blue $11.99\n",
      "https://www.amazon.com/Taco-Burrito-Popular-Surprisingly-Strategic/dp/B07JZTBV9C/ref=zg_bs_toys-and-games_39/145-7140083-6798014?_encoding=UTF8&psc=1&refRID=CM8EHKJ6G1ZB7P50PKF9 Taco vs Burrito - The Wildly Popular Surprisingly Strategic Card Game Created by a 7 Year Old $19.99\n",
      "https://www.amazon.com/Mega-Bloks-80-Piece-Building-Classic/dp/B007GE75HY/ref=zg_bs_toys-and-games_45/145-7140083-6798014?_encoding=UTF8&psc=1&refRID=CM8EHKJ6G1ZB7P50PKF9 Mega Bloks First Builders Big Building Bag with Big Building Blocks, Building Toys for Toddlers (80 Pieces) - Blue Bag 3-5 years $13.59\n",
      "https://www.amazon.com/Crayola-Scribble-Scrubbie-Peculiar-Playset/dp/B07Y92D14G/ref=zg_bs_toys-and-games_48/145-7140083-6798014?_encoding=UTF8&psc=1&refRID=CM8EHKJ6G1ZB7P50PKF9 Crayola Scribble Scrubbie Peculiar Pets, Palace Playset with Unicorn and Yeti Kids Toys, Gift for Girls & Boys, Ages 3, 4, 5, 6 $14.84\n",
      "https://www.amazon.com/LEGO-Classic-Medium-Creative-Brick/dp/B00NHQFA1I/ref=zg_bs_toys-and-games_46/145-7140083-6798014?_encoding=UTF8&psc=1&refRID=CM8EHKJ6G1ZB7P50PKF9 LEGO Classic Medium Creative Brick Box 10696 Building Toys for Creative Play; Kids Creative Kit (484 Pieces) $23.98\n",
      "https://www.amazon.com/Beat-That-Bonkers-Battle-Challenges/dp/B07Z5BRRF7/ref=zg_bs_toys-and-games_16/145-7140083-6798014?_encoding=UTF8&psc=1&refRID=CM8EHKJ6G1ZB7P50PKF9 Beat That! - The Bonkers Battle of Wacky Challenges [Family Party Game for Kids & Adults] $24.99\n",
      "https://www.amazon.com/NUTTY-TOYS-Tube-Sensory-Pack/dp/B08GWPY8XP/ref=zg_bs_toys-and-games_47/145-7140083-6798014?_encoding=UTF8&psc=1&refRID=CM8EHKJ6G1ZB7P50PKF9 nutty toys 8 pk Pop Tube Sensory Toys - Fine Motor Skills & Learning for Toddlers, Top ADHD Fidget 2021, Unique Kids & Adults Christmas Stocking Stuffer Gift Idea, Best Tween Boy & Girl Present $9.97\n",
      "https://www.amazon.com/Made-Me-Halloween-Projects-Suncatcher/dp/B09CR8L4CG/ref=zg_bs_toys-and-games_19/145-7140083-6798014?_encoding=UTF8&psc=1&refRID=CM8EHKJ6G1ZB7P50PKF9 Made By Me Create Your Own Halloween Window Art by Horizon Group USA, Make 20 Projects, Includes Suncatcher Frames & Window Clings, Glow-in-The-Dark Paint, Paint Tubes, Suction Cups & Cording,Multi $12.99\n",
      "https://www.amazon.com/Crayola-Ultimate-Drawing-Tablet-Amazon/dp/B084Y6DJ1Z/ref=zg_bs_toys-and-games_37/145-7140083-6798014?_encoding=UTF8&psc=1&refRID=CM8EHKJ6G1ZB7P50PKF9 Crayola Ultimate Light Board Blue, Drawing Tablet, Amazon for Kids, Age 6, 7, 8, 9 $27.99\n",
      "https://www.amazon.com/Tamagotchi-42881-Original-90s/dp/B08XWNK5TF/ref=zg_bs_toys-and-games_15/145-7140083-6798014?_encoding=UTF8&psc=1&refRID=CM8EHKJ6G1ZB7P50PKF9 Original Tamagotchi - 90s $19.99\n",
      "https://www.amazon.com/Crayola-Lights-Musical-Doodle-Toddler/dp/B077BS24FS/ref=zg_bs_toys-and-games_10/145-7140083-6798014?_encoding=UTF8&psc=1&refRID=CM8EHKJ6G1ZB7P50PKF9 My First Crayola Touch Lights, Musical Doodle Board, Toddler Toy, Gift, White, Green $19.97\n",
      "https://www.amazon.com/TECH-DECK-Skatepark-Customizable-Fingerboard/dp/B08SR8FBWQ/ref=zg_bs_toys-and-games_34/145-7140083-6798014?_encoding=UTF8&psc=1&refRID=CM8EHKJ6G1ZB7P50PKF9 TECH DECK, Nyjah Skatepark X-Connect Park Creator, Massive Customizable Skatepark Ramp Set with Exclusive Fingerboard, Kids Toy for Ages 6 and up $24.97\n",
      "https://www.amazon.com/Crayola-Tracing-Eye-Soft-Technology-Amazon/dp/B083FKQ1MX/ref=zg_bs_toys-and-games_4/145-7140083-6798014?_encoding=UTF8&psc=1&refRID=CM8EHKJ6G1ZB7P50PKF9 Crayola Light Up Tracing Pad with Eye-Soft Technology, Amazon Exclusive, Gift, Ages 6, 7, 8, 9, 10 $27.99\n",
      "https://www.amazon.com/Really-Family-Conversation-Starters-Challenges/dp/B087CBJ465/ref=zg_bs_toys-and-games_42/145-7140083-6798014?_encoding=UTF8&psc=1&refRID=CM8EHKJ6G1ZB7P50PKF9 Do You Really Know Your Family? A Fun Family Game Filled with Conversation Starters and Challenges - Great for Kids, Teens and Adults $24.99\n",
      "https://www.amazon.com/LeapFrog-80-609540-100-Animals-Book/dp/B085KTQKNC/ref=zg_bs_toys-and-games_3/145-7140083-6798014?_encoding=UTF8&psc=1&refRID=CM8EHKJ6G1ZB7P50PKF9 LeapFrog 100 Animals Book, Green $15.99\n"
     ]
    }
   ],
   "source": [
    "for link in page_links:\n",
    "    title, price = (None, None)\n",
    "    try:\n",
    "         title, price = scrape_product_page(link)\n",
    "    except:\n",
    "        pass\n",
    "    if title != None and price != None:\n",
    "        print(link, title, price)"
   ]
  },
  {
   "attachments": {},
   "cell_type": "markdown",
   "id": "704dcd23",
   "metadata": {},
   "source": [
    "<p> We'll use regular expression to work url</p>"
   ]
  },
  {
   "cell_type": "code",
   "execution_count": null,
   "id": "b6d1616f-de47-4c01-98f2-1fe6d0117e7d",
   "metadata": {},
   "outputs": [],
   "source": [
    "\n",
    "\n",
    "#<base-url>/<slug>/dp/>product_id>/"
   ]
  },
  {
   "attachments": {},
   "cell_type": "markdown",
   "id": "863504c1-9e16-4d0b-b773-9fdf9f41f9a2",
   "metadata": {},
   "source": [
    "<h3> Using RegEx to parse url <h3>\n",
    "\n",
    "<p> Here we set up url with regular expression to deal with product category.</p>"
   ]
  },
  {
   "cell_type": "code",
   "execution_count": null,
   "id": "b139c3cb-90cd-4836-988a-833ffce2e7a3",
   "metadata": {},
   "outputs": [],
   "source": [
    "r\"https://www.amazon.com/(?P<slug>[\\w-]+)/dp/((?P<product_id>[\\w-]+)/\""
   ]
  }
 ],
 "metadata": {
  "kernelspec": {
   "display_name": "Python 3 (ipykernel)",
   "language": "python",
   "name": "python3"
  },
  "language_info": {
   "codemirror_mode": {
    "name": "ipython",
    "version": 3
   },
   "file_extension": ".py",
   "mimetype": "text/x-python",
   "name": "python",
   "nbconvert_exporter": "python",
   "pygments_lexer": "ipython3",
   "version": "3.7.6"
  }
 },
 "nbformat": 4,
 "nbformat_minor": 5
}
