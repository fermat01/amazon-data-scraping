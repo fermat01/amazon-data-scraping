{
 "cells": [
  {
   "cell_type": "code",
   "execution_count": 1,
   "id": "c155fed6-767e-49d3-a237-c762486a04e5",
   "metadata": {},
   "outputs": [],
   "source": [
    "import os ,re\n",
    "import time\n",
    "import requests \n",
    "from requests_html import HTML \n",
    "from selenium import webdriver\n",
    "from selenium.webdriver.chrome.options import Options\n",
    "from selenium.webdriver.common.by import By"
   ]
  },
  {
   "cell_type": "code",
   "execution_count": 2,
   "id": "562f365a-6445-42de-a09c-aebaa29dddae",
   "metadata": {},
   "outputs": [
    {
     "data": {
      "text/plain": [
       "'/home/vianney/projects/data-science-projects/notebooks'"
      ]
     },
     "execution_count": 2,
     "metadata": {},
     "output_type": "execute_result"
    }
   ],
   "source": [
    "cwd = os.getcwd() # dirname of abs(path(__file__))\n",
    "BASE_DIR = os.path.dirname(cwd)\n",
    "BASE_DIR"
   ]
  },
  {
   "cell_type": "code",
   "execution_count": 3,
   "id": "756dc2f0-3ab8-4877-bf9f-0c1aca2da829",
   "metadata": {},
   "outputs": [],
   "source": [
    "options= Options()\n",
    "options.add_argument(\" --headless\")\n",
    "driver = webdriver.Chrome(options=options)"
   ]
  },
  {
   "cell_type": "code",
   "execution_count": 4,
   "id": "50976893-b94e-49e3-9e55-b5330af4d7ca",
   "metadata": {},
   "outputs": [],
   "source": [
    "categories = [\n",
    "    \"https://www.amazon.com/Best-Sellers-Toys-Games/zgbs/toys-and-games/\",\n",
    "    \"https://www.amazon.com/Best-Sellers-Electronics/zgbs/electronics/\",\n",
    "    \"https://www.amazon.com/Best-Sellers/zgbs/fashion/\"\n",
    "    \n",
    "]\n",
    "    "
   ]
  },
  {
   "cell_type": "code",
   "execution_count": 5,
   "id": "7fb382c9-95f7-484d-a85c-d7bd7cbe193e",
   "metadata": {},
   "outputs": [
    {
     "data": {
      "text/plain": [
       "['https://www.amazon.com/Best-Sellers-Toys-Games/zgbs/toys-and-games/',\n",
       " 'https://www.amazon.com/Best-Sellers-Electronics/zgbs/electronics/',\n",
       " 'https://www.amazon.com/Best-Sellers/zgbs/fashion/']"
      ]
     },
     "execution_count": 5,
     "metadata": {},
     "output_type": "execute_result"
    }
   ],
   "source": [
    "categories"
   ]
  },
  {
   "cell_type": "code",
   "execution_count": 6,
   "id": "b2cf6ede-e227-4bac-8bd3-3961127c8fe2",
   "metadata": {},
   "outputs": [],
   "source": [
    "title_lookup = \"#productTitle\"\n",
    "price_lookup = \"#a-price a-text-price a-size-medium apexPriceToPay\""
   ]
  },
  {
   "cell_type": "code",
   "execution_count": 7,
   "id": "6f09f70e-a1aa-4fac-b56f-f7a534f30ca3",
   "metadata": {},
   "outputs": [],
   "source": [
    "first_url = categories[0] "
   ]
  },
  {
   "cell_type": "code",
   "execution_count": 8,
   "id": "65ff451d-b9d6-4853-975c-896e836763f3",
   "metadata": {},
   "outputs": [],
   "source": [
    "driver.get(first_url)"
   ]
  },
  {
   "cell_type": "code",
   "execution_count": 9,
   "id": "71cec033-257d-4627-b390-e05c5e4b2cf3",
   "metadata": {},
   "outputs": [],
   "source": [
    "\n",
    "body_el = driver.find_element(By.CSS_SELECTOR,\"body\")\n",
    "html_str = body_el.get_attribute(\"innerHTML\")\n",
    "html_obj = HTML(html=html_str)"
   ]
  },
  {
   "cell_type": "code",
   "execution_count": 10,
   "id": "98e7ee12-0a73-4ff8-b5d7-db4e07c0e890",
   "metadata": {},
   "outputs": [],
   "source": [
    "#html_obj.links"
   ]
  },
  {
   "cell_type": "code",
   "execution_count": 11,
   "id": "b89cf4ca-84bf-4229-857a-1736064fc4b3",
   "metadata": {},
   "outputs": [],
   "source": [
    "#new_links = [x for x in html_obj.links if x.startswith(\"/\")]\n",
    "page_links = [f\"https://www.amazon.com{x}\" for x in  html_obj.links if x.startswith(\"/\")]\n",
    "#new_links = [x for x in new_links if \"product_reviews/\" not in x]\n",
    "#print(new_links)"
   ]
  },
  {
   "cell_type": "code",
   "execution_count": 12,
   "id": "c60bd2bd-ee36-4830-9ff1-0c8e1a12d750",
   "metadata": {},
   "outputs": [],
   "source": [
    "def scrape_product_page(url):\n",
    "    driver.get(url)\n",
    "    time.sleep(0.3)\n",
    "    body_el = driver.find_element(By.CSS_SELECTOR,\"body\")\n",
    "    html_str = body_el.get_attribute(\"innerHTML\")\n",
    "    html_obj = HTML(html=html_str)\n",
    "    product_title = driver.find_element(By.ID,'productTitle').text\n",
    "    product_price = driver.find_element(By.XPATH,\"//span[@class='a-price a-text-price a-size-medium apexPriceToPay']\").text\n",
    "    return product_title , product_price"
   ]
  },
  {
   "cell_type": "code",
   "execution_count": null,
   "id": "ea5d883d",
   "metadata": {},
   "outputs": [],
   "source": [
    "\n",
    "#<base-url>/<slug>/dp/>product_id>/"
   ]
  },
  {
   "cell_type": "markdown",
   "id": "dae82b13-1a91-40ee-906e-2933b74255a1",
   "metadata": {},
   "source": [
    "<h3> 2- Using RegEx to parse url <h3>"
   ]
  },
  {
   "cell_type": "code",
   "execution_count": 14,
   "id": "b139c3cb-90cd-4836-988a-833ffce2e7a3",
   "metadata": {},
   "outputs": [],
   "source": [
    "#my_regex_pattern = r\"https://www.amazon.com/(?P<slug>[\\w-]+)/dp/(?P<product_id>[\\w-]+)/\"\n",
    "#my_url = \"https://www.amazon.com/First-Princess-Make-Kit-Everything/dp/B07FPWYY79/\"\n",
    "#regex = re.compile(my_regex_pattern)\n"
   ]
  },
  {
   "cell_type": "code",
   "execution_count": 15,
   "id": "1a2d271b-404b-4c74-bf73-7ff5960eac9f",
   "metadata": {},
   "outputs": [],
   "source": [
    "#my_match = regex.match(my_url)\n",
    "#print(my_match)\n",
    "#my_match['product_id']"
   ]
  },
  {
   "cell_type": "code",
   "execution_count": 16,
   "id": "6b9ac843-95ea-4a1f-8b41-f51e294cc2d5",
   "metadata": {},
   "outputs": [],
   "source": [
    "#my_match['slug']"
   ]
  },
  {
   "cell_type": "code",
   "execution_count": 17,
   "id": "c04eeae5-2f46-4df7-8e07-598fe3f46fe1",
   "metadata": {},
   "outputs": [],
   "source": [
    "regex_options = [\n",
    "    \n",
    "     r\"https://www.amazon.com/gp/product/(?P<product_id>[\\w-]+)/\",\n",
    "     r\"https://www.amazon.com/dp/(?P<product_id>[\\w-]+)/\",\n",
    "     r\"https://www.amazon.com/(?P<slug>[\\w-]+)/dp/(?P<product_id>[\\w-]+)/\"\n",
    "       \n",
    "]\n",
    "\n"
   ]
  },
  {
   "cell_type": "code",
   "execution_count": 18,
   "id": "dc3643ec-6f4f-438d-a542-32c06c637a86",
   "metadata": {},
   "outputs": [],
   "source": [
    "new_links = [x for x in html_obj.links if x.startswith(\"/\")]"
   ]
  },
  {
   "cell_type": "code",
   "execution_count": 19,
   "id": "52d763b6-444b-46f9-983d-1ba9d89cfaa5",
   "metadata": {},
   "outputs": [],
   "source": [
    "def extract_product_id_from_url(url):\n",
    "    product_id = None\n",
    "    for regex_str in regex_options:\n",
    "        regex = re.compile(regex_str)\n",
    "        match = regex.match(url)\n",
    "        if match != None:\n",
    "            try:\n",
    "                product_id = match['product_id']\n",
    "            except:\n",
    "                pass\n",
    "    return product_id"
   ]
  },
  {
   "cell_type": "code",
   "execution_count": 20,
   "id": "423b672e-739f-4dda-98c8-4819cecaf99f",
   "metadata": {},
   "outputs": [],
   "source": [
    "#page_links = [ x for x in page_links if extract_product_id_from_url(x) != None]\n",
    "def clean_page_links(page_links=[]):\n",
    "    final_page_links = []\n",
    "    for url in page_links:\n",
    "        product_id = extract_product_id_from_url(url) \n",
    "        if product_id != None :\n",
    "            final_page_links.append({\"url\": url, \"product_id\": product_id})\n",
    "    return final_page_links\n",
    "\n",
    "\n",
    "cleaned_links = clean_page_links(page_links)"
   ]
  },
  {
   "cell_type": "code",
   "execution_count": 21,
   "id": "932c9cc7-58d6-4b1d-aab6-2f07b5796d0d",
   "metadata": {},
   "outputs": [
    {
     "data": {
      "text/plain": [
       "False"
      ]
     },
     "execution_count": 21,
     "metadata": {},
     "output_type": "execute_result"
    }
   ],
   "source": [
    "len(page_links) == len(cleaned_links)"
   ]
  },
  {
   "cell_type": "code",
   "execution_count": 22,
   "id": "56ee789a-fd65-4583-a506-a2e1f8662905",
   "metadata": {},
   "outputs": [
    {
     "data": {
      "text/plain": [
       "51"
      ]
     },
     "execution_count": 22,
     "metadata": {},
     "output_type": "execute_result"
    }
   ],
   "source": [
    "len(cleaned_links)"
   ]
  },
  {
   "cell_type": "code",
   "execution_count": 23,
   "id": "d1f1bca8-759d-4ec4-97a9-e0c156e5dd3d",
   "metadata": {},
   "outputs": [
    {
     "data": {
      "text/plain": [
       "161"
      ]
     },
     "execution_count": 23,
     "metadata": {},
     "output_type": "execute_result"
    }
   ],
   "source": [
    "len(page_links)"
   ]
  },
  {
   "cell_type": "code",
   "execution_count": 24,
   "id": "5c4e701c-3a1f-4358-af15-6f7774c48f88",
   "metadata": {},
   "outputs": [
    {
     "data": {
      "text/plain": [
       "[{'url': 'https://www.amazon.com/Tamagotchi-42881-Original-90s/dp/B08XWNK5TF/ref=zg_bs_toys-and-games_10/142-7709922-0898351?_encoding=UTF8&psc=1&refRID=32FC4FT5Z2RNRFT7J15Z',\n",
       "  'product_id': 'B08XWNK5TF'},\n",
       " {'url': 'https://www.amazon.com/Family-Sturdy-Storage-Travel-Friendly-Exclusive/dp/B07P6MZPK3/ref=zg_bs_toys-and-games_34/142-7709922-0898351?_encoding=UTF8&psc=1&refRID=32FC4FT5Z2RNRFT7J15Z',\n",
       "  'product_id': 'B07P6MZPK3'},\n",
       " {'url': 'https://www.amazon.com/SHASHIBO-Shifting-Geometric-Magnetic-Transforming/dp/B07W7FLKRW/ref=zg_bs_toys-and-games_1/142-7709922-0898351?_encoding=UTF8&psc=1&refRID=32FC4FT5Z2RNRFT7J15Z',\n",
       "  'product_id': 'B07W7FLKRW'},\n",
       " {'url': 'https://www.amazon.com/Capsule-1-Collectible-Toy-Limited/dp/B09M4999VY/ref=zg_bs_toys-and-games_9/142-7709922-0898351?_encoding=UTF8&psc=1&refRID=32FC4FT5Z2RNRFT7J15Z',\n",
       "  'product_id': 'B09M4999VY'},\n",
       " {'url': 'https://www.amazon.com/Twister-Ultimate-Colored-Compatible-Exclusive/dp/B01ALHAEWA/ref=zg_bs_toys-and-games_19/142-7709922-0898351?_encoding=UTF8&psc=1&refRID=32FC4FT5Z2RNRFT7J15Z',\n",
       "  'product_id': 'B01ALHAEWA'},\n",
       " {'url': 'https://www.amazon.com/Crayola-Ultimate-Drawing-Tablet-Amazon/dp/B084Y6DJ1Z/ref=zg_bs_toys-and-games_36/142-7709922-0898351?_encoding=UTF8&psc=1&refRID=32FC4FT5Z2RNRFT7J15Z',\n",
       "  'product_id': 'B084Y6DJ1Z'},\n",
       " {'url': 'https://www.amazon.com/Exploding-Kittens-LLC-EKG-ORG1-1-Card/dp/B010TQY7A8/ref=zg_bs_toys-and-games_44/142-7709922-0898351?_encoding=UTF8&psc=1&refRID=32FC4FT5Z2RNRFT7J15Z',\n",
       "  'product_id': 'B010TQY7A8'},\n",
       " {'url': 'https://www.amazon.com/Crayola-Tracing-Eye-Soft-Technology-Amazon/dp/B083FKQ1MX/ref=zg_bs_toys-and-games_4/142-7709922-0898351?_encoding=UTF8&psc=1&refRID=32FC4FT5Z2RNRFT7J15Z',\n",
       "  'product_id': 'B083FKQ1MX'},\n",
       " {'url': 'https://www.amazon.com/Hasbro-Gaming-98936-Hungry-Hippos/dp/B008FD8ETS/ref=zg_bs_toys-and-games_47/142-7709922-0898351?_encoding=UTF8&psc=1&refRID=32FC4FT5Z2RNRFT7J15Z',\n",
       "  'product_id': 'B008FD8ETS'},\n",
       " {'url': 'https://www.amazon.com/Crayola-Twistables-Crayons-Exclusive-Stocking/dp/B07D4T2XKB/ref=zg_bs_toys-and-games_35/142-7709922-0898351?_encoding=UTF8&psc=1&refRID=32FC4FT5Z2RNRFT7J15Z',\n",
       "  'product_id': 'B07D4T2XKB'},\n",
       " {'url': 'https://www.amazon.com/LeapFrog-80-609540-100-Animals-Book/dp/B085KTQKNC/ref=zg_bs_toys-and-games_2/142-7709922-0898351?_encoding=UTF8&psc=1&refRID=32FC4FT5Z2RNRFT7J15Z',\n",
       "  'product_id': 'B085KTQKNC'},\n",
       " {'url': 'https://www.amazon.com/Cocomelon-Musical-Bedtime-Plush-Tummy/dp/B0855NLMWL/ref=zg_bs_toys-and-games_20/142-7709922-0898351?_encoding=UTF8&psc=1&refRID=32FC4FT5Z2RNRFT7J15Z',\n",
       "  'product_id': 'B0855NLMWL'},\n",
       " {'url': 'https://www.amazon.com/LEGO-Dinosaurs-31058-Pterodactyl-Triceratops/dp/B01KJEOCDW/ref=zg_bs_toys-and-games_11/142-7709922-0898351?_encoding=UTF8&psc=1&refRID=32FC4FT5Z2RNRFT7J15Z',\n",
       "  'product_id': 'B01KJEOCDW'},\n",
       " {'url': 'https://www.amazon.com/Made-Me-Halloween-Projects-Suncatcher/dp/B09CR8L4CG/ref=zg_bs_toys-and-games_22/142-7709922-0898351?_encoding=UTF8&psc=1&refRID=32FC4FT5Z2RNRFT7J15Z',\n",
       "  'product_id': 'B09CR8L4CG'},\n",
       " {'url': 'https://www.amazon.com/LEGO-Potter-Calendar-Including-Minifigures/dp/B093132296/ref=zg_bs_toys-and-games_48/142-7709922-0898351?_encoding=UTF8&psc=1&refRID=32FC4FT5Z2RNRFT7J15Z',\n",
       "  'product_id': 'B093132296'},\n",
       " {'url': 'https://www.amazon.com/Sassy-Stacks-Circles-Stacking-Learning/dp/B07NXDJ52C/ref=zg_bs_toys-and-games_16/142-7709922-0898351?_encoding=UTF8&psc=1&refRID=32FC4FT5Z2RNRFT7J15Z',\n",
       "  'product_id': 'B07NXDJ52C'},\n",
       " {'url': 'https://www.amazon.com/Hasbro-Gaming-Kingdom-Adventures-Exclusive/dp/B00000DMF5/ref=zg_bs_toys-and-games_45/142-7709922-0898351?_encoding=UTF8&psc=1&refRID=32FC4FT5Z2RNRFT7J15Z',\n",
       "  'product_id': 'B00000DMF5'},\n",
       " {'url': 'https://www.amazon.com/Bravokids-Writing-Electronic-Educational-Birthday/dp/B083BG4MXC/ref=zg_bs_toys-and-games_5/142-7709922-0898351?_encoding=UTF8&psc=1&refRID=32FC4FT5Z2RNRFT7J15Z',\n",
       "  'product_id': 'B083BG4MXC'},\n",
       " {'url': 'https://www.amazon.com/Dinosaur-Construction-Building-Electric-Birthday/dp/B08PCVYDZG/ref=zg_bs_toys-and-games_7/142-7709922-0898351?_encoding=UTF8&psc=1&refRID=32FC4FT5Z2RNRFT7J15Z',\n",
       "  'product_id': 'B08PCVYDZG'},\n",
       " {'url': 'https://www.amazon.com/TeeTurtle-Reversible-Octopus-Plushie-Patented/dp/B092P3LW22/ref=zg_bs_toys-and-games_3/142-7709922-0898351?_encoding=UTF8&psc=1&refRID=32FC4FT5Z2RNRFT7J15Z',\n",
       "  'product_id': 'B092P3LW22'},\n",
       " {'url': 'https://www.amazon.com/Really-Family-Conversation-Starters-Challenges/dp/B087CBJ465/ref=zg_bs_toys-and-games_30/142-7709922-0898351?_encoding=UTF8&psc=1&refRID=32FC4FT5Z2RNRFT7J15Z',\n",
       "  'product_id': 'B087CBJ465'},\n",
       " {'url': 'https://www.amazon.com/Disney-Classic-Characters-Matching-Game/dp/B007DW6F34/ref=zg_bs_toys-and-games_33/142-7709922-0898351?_encoding=UTF8&psc=1&refRID=32FC4FT5Z2RNRFT7J15Z',\n",
       "  'product_id': 'B007DW6F34'},\n",
       " {'url': 'https://www.amazon.com/Crayola-Lights-Musical-Doodle-Toddler/dp/B077BS24FS/ref=zg_bs_toys-and-games_8/142-7709922-0898351?_encoding=UTF8&psc=1&refRID=32FC4FT5Z2RNRFT7J15Z',\n",
       "  'product_id': 'B077BS24FS'},\n",
       " {'url': 'https://www.amazon.com/Hasbro-Gaming-C1009-Monopoly-Classic/dp/B01MU9K3XU/ref=zg_bs_toys-and-games_map_42/142-7709922-0898351?_encoding=UTF8&psc=1&refRID=32FC4FT5Z2RNRFT7J15Z',\n",
       "  'product_id': 'B01MU9K3XU'},\n",
       " {'url': 'https://www.amazon.com/Mega-Bloks-80-Piece-Building-Classic/dp/B007GE75HY/ref=zg_bs_toys-and-games_38/142-7709922-0898351?_encoding=UTF8&psc=1&refRID=32FC4FT5Z2RNRFT7J15Z',\n",
       "  'product_id': 'B007GE75HY'},\n",
       " {'url': 'https://www.amazon.com/Nuby-Floating-Purple-Octopus-Interactive/dp/B083ZZSGLR/ref=zg_bs_toys-and-games_23/142-7709922-0898351?_encoding=UTF8&psc=1&refRID=32FC4FT5Z2RNRFT7J15Z',\n",
       "  'product_id': 'B083ZZSGLR'},\n",
       " {'url': 'https://www.amazon.com/Taco-Cat-Goat-Cheese-Pizza/dp/B077Z1R28P/ref=zg_bs_toys-and-games_14/142-7709922-0898351?_encoding=UTF8&psc=1&refRID=32FC4FT5Z2RNRFT7J15Z',\n",
       "  'product_id': 'B077Z1R28P'},\n",
       " {'url': 'https://www.amazon.com/Hasbro-A5640-Connect-4-Game/dp/B00D8STBHY/ref=zg_bs_toys-and-games_18/142-7709922-0898351?_encoding=UTF8&psc=1&refRID=32FC4FT5Z2RNRFT7J15Z',\n",
       "  'product_id': 'B00D8STBHY'},\n",
       " {'url': 'https://www.amazon.com/Tara-Toys-Blues-Clues-Necklace/dp/B0959MKWVG/ref=zg_bs_toys-and-games_49/142-7709922-0898351?_encoding=UTF8&psc=1&refRID=32FC4FT5Z2RNRFT7J15Z',\n",
       "  'product_id': 'B0959MKWVG'},\n",
       " {'url': 'https://www.amazon.com/First-Princess-Make-Kit-Everything/dp/B07FPWYY79/ref=zg_bs_toys-and-games_37/142-7709922-0898351?_encoding=UTF8&psc=1&refRID=32FC4FT5Z2RNRFT7J15Z',\n",
       "  'product_id': 'B07FPWYY79'},\n",
       " {'url': 'https://www.amazon.com/Hasbro-Gaming-C1009-Monopoly-Classic/dp/B01MU9K3XU/ref=zg_bs_toys-and-games_42/142-7709922-0898351?_encoding=UTF8&psc=1&refRID=32FC4FT5Z2RNRFT7J15Z',\n",
       "  'product_id': 'B01MU9K3XU'},\n",
       " {'url': 'https://www.amazon.com/Fisher-Price-Rattle-Rock-Maracas-Orange/dp/B071FLSWBS/ref=zg_bs_toys-and-games_12/142-7709922-0898351?_encoding=UTF8&psc=1&refRID=32FC4FT5Z2RNRFT7J15Z',\n",
       "  'product_id': 'B071FLSWBS'},\n",
       " {'url': 'https://www.amazon.com/Skillmatics-Educational-Game-Questions-Knowledge/dp/B07RMJ8SG6/ref=zg_bs_toys-and-games_27/142-7709922-0898351?_encoding=UTF8&psc=1&refRID=32FC4FT5Z2RNRFT7J15Z',\n",
       "  'product_id': 'B07RMJ8SG6'},\n",
       " {'url': 'https://www.amazon.com/AMERFIST-Controller-Spinner-Rotating-Spinning/dp/B09J4S2BT8/ref=zg_bs_toys-and-games_29/142-7709922-0898351?_encoding=UTF8&psc=1&refRID=32FC4FT5Z2RNRFT7J15Z',\n",
       "  'product_id': 'B09J4S2BT8'},\n",
       " {'url': 'https://www.amazon.com/LEGO-Classic-Medium-Creative-Brick/dp/B00NHQFA1I/ref=zg_bs_toys-and-games_43/142-7709922-0898351?_encoding=UTF8&psc=1&refRID=32FC4FT5Z2RNRFT7J15Z',\n",
       "  'product_id': 'B00NHQFA1I'},\n",
       " {'url': 'https://www.amazon.com/Poppers-Figetget-Spinners-Infinity-Autistic/dp/B0973R7JMP/ref=zg_bs_toys-and-games_15/142-7709922-0898351?_encoding=UTF8&psc=1&refRID=32FC4FT5Z2RNRFT7J15Z',\n",
       "  'product_id': 'B0973R7JMP'},\n",
       " {'url': 'https://www.amazon.com/Flybar-Jumper-Toddlers-Durable-Supports/dp/B00WTDXSDM/ref=zg_bs_toys-and-games_21/142-7709922-0898351?_encoding=UTF8&psc=1&refRID=32FC4FT5Z2RNRFT7J15Z',\n",
       "  'product_id': 'B00WTDXSDM'},\n",
       " {'url': 'https://www.amazon.com/Seckton-Upgrade-Birthday-Portable-Card-Blue/dp/B087ZTH98B/ref=zg_bs_toys-and-games_28/142-7709922-0898351?_encoding=UTF8&psc=1&refRID=32FC4FT5Z2RNRFT7J15Z',\n",
       "  'product_id': 'B087ZTH98B'},\n",
       " {'url': 'https://www.amazon.com/LEGO-Minecraft-Abandoned-Playset-Figures/dp/B08HW1ZNW5/ref=zg_bs_toys-and-games_46/142-7709922-0898351?_encoding=UTF8&psc=1&refRID=32FC4FT5Z2RNRFT7J15Z',\n",
       "  'product_id': 'B08HW1ZNW5'},\n",
       " {'url': 'https://www.amazon.com/ThinkFun-Gravity-Marble-Logic-Girls/dp/B00IUAAK2A/ref=zg_bs_toys-and-games_6/142-7709922-0898351?_encoding=UTF8&psc=1&refRID=32FC4FT5Z2RNRFT7J15Z',\n",
       "  'product_id': 'B00IUAAK2A'},\n",
       " {'url': 'https://www.amazon.com/Kids-Against-Maturity-Original-Humanity/dp/B076PRWVFG/ref=zg_bs_toys-and-games_50/142-7709922-0898351?_encoding=UTF8&psc=1&refRID=32FC4FT5Z2RNRFT7J15Z',\n",
       "  'product_id': 'B076PRWVFG'},\n",
       " {'url': 'https://www.amazon.com/Beat-That-Bonkers-Battle-Challenges/dp/B07Z5BRRF7/ref=zg_bs_toys-and-games_39/142-7709922-0898351?_encoding=UTF8&psc=1&refRID=32FC4FT5Z2RNRFT7J15Z',\n",
       "  'product_id': 'B07Z5BRRF7'},\n",
       " {'url': 'https://www.amazon.com/Taco-Burrito-Popular-Surprisingly-Strategic/dp/B07JZTBV9C/ref=zg_bs_toys-and-games_31/142-7709922-0898351?_encoding=UTF8&psc=1&refRID=32FC4FT5Z2RNRFT7J15Z',\n",
       "  'product_id': 'B07JZTBV9C'},\n",
       " {'url': 'https://www.amazon.com/BUNMO-Pop-Tubes-Sensory-Toy/dp/B07MBW6JNL/ref=zg_bs_toys-and-games_13/142-7709922-0898351?_encoding=UTF8&psc=1&refRID=32FC4FT5Z2RNRFT7J15Z',\n",
       "  'product_id': 'B07MBW6JNL'},\n",
       " {'url': 'https://www.amazon.com/Hasbro-A5640-Connect-4-Game/dp/B00D8STBHY/ref=zg_bs_toys-and-games_map_18/142-7709922-0898351?_encoding=UTF8&psc=1&refRID=32FC4FT5Z2RNRFT7J15Z',\n",
       "  'product_id': 'B00D8STBHY'},\n",
       " {'url': 'https://www.amazon.com/Hasbro-A5064-Trouble-Game/dp/B00D7OAOYI/ref=zg_bs_toys-and-games_40/142-7709922-0898351?_encoding=UTF8&psc=1&refRID=32FC4FT5Z2RNRFT7J15Z',\n",
       "  'product_id': 'B00D7OAOYI'},\n",
       " {'url': 'https://www.amazon.com/VTech-Balls-Bulldozer-Amazon-Exclusive/dp/B07427NSPK/ref=zg_bs_toys-and-games_26/142-7709922-0898351?_encoding=UTF8&psc=1&refRID=32FC4FT5Z2RNRFT7J15Z',\n",
       "  'product_id': 'B07427NSPK'},\n",
       " {'url': 'https://www.amazon.com/TECH-DECK-Skatepark-Customizable-Fingerboard/dp/B08SR8FBWQ/ref=zg_bs_toys-and-games_24/142-7709922-0898351?_encoding=UTF8&psc=1&refRID=32FC4FT5Z2RNRFT7J15Z',\n",
       "  'product_id': 'B08SR8FBWQ'},\n",
       " {'url': 'https://www.amazon.com/Slinky-60100-Original-Brand/dp/B00000IZKX/ref=zg_bs_toys-and-games_32/142-7709922-0898351?_encoding=UTF8&psc=1&refRID=32FC4FT5Z2RNRFT7J15Z',\n",
       "  'product_id': 'B00000IZKX'},\n",
       " {'url': 'https://www.amazon.com/Crayola-Frozen-Inspiration-Coloring-Supplies/dp/B07P6RFWK4/ref=zg_bs_toys-and-games_41/142-7709922-0898351?_encoding=UTF8&psc=1&refRID=32FC4FT5Z2RNRFT7J15Z',\n",
       "  'product_id': 'B07P6RFWK4'},\n",
       " {'url': 'https://www.amazon.com/Playskool-Classic-Spinning-Activity-Toddlers/dp/B00YTWEMUO/ref=zg_bs_toys-and-games_17/142-7709922-0898351?_encoding=UTF8&psc=1&refRID=32FC4FT5Z2RNRFT7J15Z',\n",
       "  'product_id': 'B00YTWEMUO'}]"
      ]
     },
     "execution_count": 24,
     "metadata": {},
     "output_type": "execute_result"
    }
   ],
   "source": [
    "cleaned_links "
   ]
  },
  {
   "cell_type": "code",
   "execution_count": 25,
   "id": "deeb0694-5eee-4ee3-9555-b57cb8ec7cbe",
   "metadata": {},
   "outputs": [],
   "source": [
    "def perform_scrape(cleaned_items=[]):\n",
    "    data_extracted = []\n",
    "    for obj in cleaned_items:\n",
    "        link= obj['url']\n",
    "        product_id = obj['product_id']\n",
    "        title, price = (None, None)\n",
    "        try:\n",
    "            title, price = scrape_product_page(link)\n",
    "        except:\n",
    "            pass\n",
    "        if title != None and price != None:\n",
    "            #print(link, title, price)\n",
    "        product_data = {\n",
    "            \"url\": link,\n",
    "            \"product_id\": product_id,\n",
    "            \"title\": title,\n",
    "            \"price\": price            \n",
    "            \n",
    "        }\n",
    "        data_extracted.append(product_data)\n",
    "        \n",
    "    return data_extracted"
   ]
  },
  {
   "cell_type": "code",
   "execution_count": 26,
   "id": "7684160f-be70-4385-a6f0-0ae6b466e7fa",
   "metadata": {},
   "outputs": [
    {
     "name": "stdout",
     "output_type": "stream",
     "text": [
      "https://www.amazon.com/Tamagotchi-42881-Original-90s/dp/B08XWNK5TF/ref=zg_bs_toys-and-games_10/142-7709922-0898351?_encoding=UTF8&psc=1&refRID=32FC4FT5Z2RNRFT7J15Z Original Tamagotchi - 90s $19.99\n",
      "https://www.amazon.com/Family-Sturdy-Storage-Travel-Friendly-Exclusive/dp/B07P6MZPK3/ref=zg_bs_toys-and-games_34/142-7709922-0898351?_encoding=UTF8&psc=1&refRID=32FC4FT5Z2RNRFT7J15Z UNO Family Card Game, with 112 Cards in a Sturdy Storage Tin, Travel-Friendly, Makes a Great Gift for 7 Year Olds and Up [Amazon Exclusive] $9.99\n",
      "https://www.amazon.com/Twister-Ultimate-Colored-Compatible-Exclusive/dp/B01ALHAEWA/ref=zg_bs_toys-and-games_19/142-7709922-0898351?_encoding=UTF8&psc=1&refRID=32FC4FT5Z2RNRFT7J15Z Twister Ultimate: Bigger Mat, More Colored Spots, Family, Kids Party Game Age 6+; Compatible with Alexa (Amazon Exclusive) $19.99\n",
      "https://www.amazon.com/Crayola-Ultimate-Drawing-Tablet-Amazon/dp/B084Y6DJ1Z/ref=zg_bs_toys-and-games_36/142-7709922-0898351?_encoding=UTF8&psc=1&refRID=32FC4FT5Z2RNRFT7J15Z Crayola Ultimate Light Board Blue, Drawing Tablet, Amazon for Kids, Age 6, 7, 8, 9 $27.99\n",
      "https://www.amazon.com/Exploding-Kittens-LLC-EKG-ORG1-1-Card/dp/B010TQY7A8/ref=zg_bs_toys-and-games_44/142-7709922-0898351?_encoding=UTF8&psc=1&refRID=32FC4FT5Z2RNRFT7J15Z Exploding Kittens - A Russian Roulette Card Game, Easy Family-Friendly Party Games - Card Games for Adults, Teens & Kids - 2-5 Players $19.82\n",
      "https://www.amazon.com/Crayola-Tracing-Eye-Soft-Technology-Amazon/dp/B083FKQ1MX/ref=zg_bs_toys-and-games_4/142-7709922-0898351?_encoding=UTF8&psc=1&refRID=32FC4FT5Z2RNRFT7J15Z Crayola Light Up Tracing Pad with Eye-Soft Technology, Amazon Exclusive, Gift, Ages 6, 7, 8, 9, 10 $27.99\n",
      "https://www.amazon.com/Crayola-Twistables-Crayons-Exclusive-Stocking/dp/B07D4T2XKB/ref=zg_bs_toys-and-games_35/142-7709922-0898351?_encoding=UTF8&psc=1&refRID=32FC4FT5Z2RNRFT7J15Z Crayola Twistables Crayons Coloring Set, Kids Craft Supplies, Gift, 50 Count $12.49\n",
      "https://www.amazon.com/LeapFrog-80-609540-100-Animals-Book/dp/B085KTQKNC/ref=zg_bs_toys-and-games_2/142-7709922-0898351?_encoding=UTF8&psc=1&refRID=32FC4FT5Z2RNRFT7J15Z LeapFrog 100 Animals Book, Green $15.99\n",
      "https://www.amazon.com/Cocomelon-Musical-Bedtime-Plush-Tummy/dp/B0855NLMWL/ref=zg_bs_toys-and-games_20/142-7709922-0898351?_encoding=UTF8&psc=1&refRID=32FC4FT5Z2RNRFT7J15Z CoComelon Official Musical Bedtime JJ Doll, Soft Plush Body – Press Tummy and JJ sings clips from ‘Yes, Yes, Bedtime Song,’ – Includes Feature Plush and Small Pillow Plush Teddy Bear – Toys for Babies $19.97\n",
      "https://www.amazon.com/Made-Me-Halloween-Projects-Suncatcher/dp/B09CR8L4CG/ref=zg_bs_toys-and-games_22/142-7709922-0898351?_encoding=UTF8&psc=1&refRID=32FC4FT5Z2RNRFT7J15Z Made By Me Create Your Own Halloween Window Art by Horizon Group USA, Make 20 Projects, Includes Suncatcher Frames & Window Clings, Glow-in-The-Dark Paint, Paint Tubes, Suction Cups & Cording,Multi $12.99\n",
      "https://www.amazon.com/Sassy-Stacks-Circles-Stacking-Learning/dp/B07NXDJ52C/ref=zg_bs_toys-and-games_16/142-7709922-0898351?_encoding=UTF8&psc=1&refRID=32FC4FT5Z2RNRFT7J15Z Stacks of Circles Stacking Ring STEM Learning Toy, Age 6+ Months, Multi, 9 Piece Set $6.99\n",
      "https://www.amazon.com/Hasbro-Gaming-Kingdom-Adventures-Exclusive/dp/B00000DMF5/ref=zg_bs_toys-and-games_45/142-7709922-0898351?_encoding=UTF8&psc=1&refRID=32FC4FT5Z2RNRFT7J15Z Hasbro Gaming Candy Land Kingdom Of Sweet Adventures Board Game For Kids Ages 3 & Up (Amazon Exclusive),Red,Original version $12.99\n",
      "https://www.amazon.com/Dinosaur-Construction-Building-Electric-Birthday/dp/B08PCVYDZG/ref=zg_bs_toys-and-games_7/142-7709922-0898351?_encoding=UTF8&psc=1&refRID=32FC4FT5Z2RNRFT7J15Z Dinosaur Toys for 3 4 5 6 7 Year Old Boys, Take Apart Dinosaur Toys for Kids 3-5 5-7 STEM Construction Building Kids Toys with Electric Drill, Dinosaur Toys Christmas Birthday Gifts Boys Girls $23.75\n",
      "https://www.amazon.com/TeeTurtle-Reversible-Octopus-Plushie-Patented/dp/B092P3LW22/ref=zg_bs_toys-and-games_3/142-7709922-0898351?_encoding=UTF8&psc=1&refRID=32FC4FT5Z2RNRFT7J15Z TeeTurtle | The Moody Reversible Octopus Plushie | Patented Design | Sensory Fidget Toy for Stress Relief | Light Pink + Pink | Angry + Rage | Show Your Mood Without Saying a Word! $15.00\n",
      "https://www.amazon.com/Really-Family-Conversation-Starters-Challenges/dp/B087CBJ465/ref=zg_bs_toys-and-games_30/142-7709922-0898351?_encoding=UTF8&psc=1&refRID=32FC4FT5Z2RNRFT7J15Z Do You Really Know Your Family? A Fun Family Game Filled with Conversation Starters and Challenges - Great for Kids, Teens and Adults $24.99\n",
      "https://www.amazon.com/Disney-Classic-Characters-Matching-Game/dp/B007DW6F34/ref=zg_bs_toys-and-games_33/142-7709922-0898351?_encoding=UTF8&psc=1&refRID=32FC4FT5Z2RNRFT7J15Z Wonder Forge Disney Classic Characters Matching Game for Boys & Girls Age 3 to 5 - A Fun & Fast Disney Memory Game , Blue $11.99\n",
      "https://www.amazon.com/Crayola-Lights-Musical-Doodle-Toddler/dp/B077BS24FS/ref=zg_bs_toys-and-games_8/142-7709922-0898351?_encoding=UTF8&psc=1&refRID=32FC4FT5Z2RNRFT7J15Z My First Crayola Touch Lights, Musical Doodle Board, Toddler Toy, Gift, White, Green $19.97\n",
      "https://www.amazon.com/Mega-Bloks-80-Piece-Building-Classic/dp/B007GE75HY/ref=zg_bs_toys-and-games_38/142-7709922-0898351?_encoding=UTF8&psc=1&refRID=32FC4FT5Z2RNRFT7J15Z Mega Bloks First Builders Big Building Bag with Big Building Blocks, Building Toys for Toddlers (80 Pieces) - Blue Bag 3-5 years $13.59\n",
      "https://www.amazon.com/Nuby-Floating-Purple-Octopus-Interactive/dp/B083ZZSGLR/ref=zg_bs_toys-and-games_23/142-7709922-0898351?_encoding=UTF8&psc=1&refRID=32FC4FT5Z2RNRFT7J15Z Nuby Floating Purple Octopus with 3 Hoopla Rings Interactive Bath Toy $8.99\n",
      "https://www.amazon.com/Taco-Cat-Goat-Cheese-Pizza/dp/B077Z1R28P/ref=zg_bs_toys-and-games_14/142-7709922-0898351?_encoding=UTF8&psc=1&refRID=32FC4FT5Z2RNRFT7J15Z Taco Cat Goat Cheese Pizza $8.76\n",
      "https://www.amazon.com/Tara-Toys-Blues-Clues-Necklace/dp/B0959MKWVG/ref=zg_bs_toys-and-games_49/142-7709922-0898351?_encoding=UTF8&psc=1&refRID=32FC4FT5Z2RNRFT7J15Z Tara Toys Blue's Clues Necklace Set, 10\" H x 9\" W x 2\" D $12.99\n",
      "https://www.amazon.com/First-Princess-Make-Kit-Everything/dp/B07FPWYY79/ref=zg_bs_toys-and-games_37/142-7709922-0898351?_encoding=UTF8&psc=1&refRID=32FC4FT5Z2RNRFT7J15Z FoxPrint My First Princess Make Up Kit - 12 Pc Kids Makeup Set Washable Makeup For Girls These Makeup Toys for Girls Include All Your Princess Needs To Play Dress Up Comes with Stylish Bag $13.40\n",
      "https://www.amazon.com/Fisher-Price-Rattle-Rock-Maracas-Orange/dp/B071FLSWBS/ref=zg_bs_toys-and-games_12/142-7709922-0898351?_encoding=UTF8&psc=1&refRID=32FC4FT5Z2RNRFT7J15Z Fisher-Price Rattle 'n Rock Maracas, Blue/Orange [Amazon Exclusive] 2 Count (Pack of 1) $5.94\n",
      "https://www.amazon.com/Poppers-Figetget-Spinners-Infinity-Autistic/dp/B0973R7JMP/ref=zg_bs_toys-and-games_15/142-7709922-0898351?_encoding=UTF8&psc=1&refRID=32FC4FT5Z2RNRFT7J15Z (50 Pcs) Fidget Poppers Popit Toy Pack Push Pop Bubble Popping Set It Mini Poppet Figit Package Figetget Spinners, Infinity Rubiks Cube Stress Relief Balls w Sensory Toys for Autistic ADHD Kids Girls $34.95\n",
      "https://www.amazon.com/Flybar-Jumper-Toddlers-Durable-Supports/dp/B00WTDXSDM/ref=zg_bs_toys-and-games_21/142-7709922-0898351?_encoding=UTF8&psc=1&refRID=32FC4FT5Z2RNRFT7J15Z Flybar My First Foam Pogo Jumper for Kids Fun and Safe Pogo Stick for Toddlers, Durable Foam and Bungee Jumper for Ages 3 and up, Supports up to 250lbs $16.99\n",
      "https://www.amazon.com/Seckton-Upgrade-Birthday-Portable-Card-Blue/dp/B087ZTH98B/ref=zg_bs_toys-and-games_28/142-7709922-0898351?_encoding=UTF8&psc=1&refRID=32FC4FT5Z2RNRFT7J15Z Seckton Upgrade Kids Selfie Camera, Christmas Birthday Gifts for Boys Age 3-9, HD Digital Video Cameras for Toddler, Portable Toy for 3 4 5 6 7 8 Year Old Boy with 32GB SD Card-Blue $42.99\n",
      "https://www.amazon.com/ThinkFun-Gravity-Marble-Logic-Girls/dp/B00IUAAK2A/ref=zg_bs_toys-and-games_6/142-7709922-0898351?_encoding=UTF8&psc=1&refRID=32FC4FT5Z2RNRFT7J15Z ThinkFun Gravity Maze Marble Run Brain Game and STEM Toy for Boys and Girls Age 8 and Up – Toy of the Year Award Winner $29.99\n",
      "https://www.amazon.com/Kids-Against-Maturity-Original-Humanity/dp/B076PRWVFG/ref=zg_bs_toys-and-games_50/142-7709922-0898351?_encoding=UTF8&psc=1&refRID=32FC4FT5Z2RNRFT7J15Z Kids Against Maturity: Card Game for Kids and Families, Super Fun Hilarious for Family Party Game Night $29.99\n",
      "https://www.amazon.com/Beat-That-Bonkers-Battle-Challenges/dp/B07Z5BRRF7/ref=zg_bs_toys-and-games_39/142-7709922-0898351?_encoding=UTF8&psc=1&refRID=32FC4FT5Z2RNRFT7J15Z Beat That! - The Bonkers Battle of Wacky Challenges [Family Party Game for Kids & Adults] $24.99\n",
      "https://www.amazon.com/Taco-Burrito-Popular-Surprisingly-Strategic/dp/B07JZTBV9C/ref=zg_bs_toys-and-games_31/142-7709922-0898351?_encoding=UTF8&psc=1&refRID=32FC4FT5Z2RNRFT7J15Z Taco vs Burrito - The Wildly Popular Surprisingly Strategic Card Game Created by a 7 Year Old $19.99\n",
      "https://www.amazon.com/BUNMO-Pop-Tubes-Sensory-Toy/dp/B07MBW6JNL/ref=zg_bs_toys-and-games_13/142-7709922-0898351?_encoding=UTF8&psc=1&refRID=32FC4FT5Z2RNRFT7J15Z BunMo Pop Tubes Sensory Toys, Fine Motor Skills Stocking Stuffers Toddler Toys, Fidget Toys for Sensory Kids and Stocking Stuffers for Kids Learning Toys $5.99\n",
      "https://www.amazon.com/VTech-Balls-Bulldozer-Amazon-Exclusive/dp/B07427NSPK/ref=zg_bs_toys-and-games_26/142-7709922-0898351?_encoding=UTF8&psc=1&refRID=32FC4FT5Z2RNRFT7J15Z VTech Pop-a-Balls Push and Pop Bulldozer Amazon Exclusive,Red $26.36\n",
      "https://www.amazon.com/TECH-DECK-Skatepark-Customizable-Fingerboard/dp/B08SR8FBWQ/ref=zg_bs_toys-and-games_24/142-7709922-0898351?_encoding=UTF8&psc=1&refRID=32FC4FT5Z2RNRFT7J15Z TECH DECK, Nyjah Skatepark X-Connect Park Creator, Massive Customizable Skatepark Ramp Set with Exclusive Fingerboard, Kids Toy for Ages 6 and up $24.97\n",
      "https://www.amazon.com/Slinky-60100-Original-Brand/dp/B00000IZKX/ref=zg_bs_toys-and-games_32/142-7709922-0898351?_encoding=UTF8&psc=1&refRID=32FC4FT5Z2RNRFT7J15Z The Original Slinky Walking Spring Toy, Metal Slinky, Fidget Toys, Party Favors and Gifts, Toys for 5 Year Old Girls and Boys, by Just Play $3.49\n",
      "https://www.amazon.com/Crayola-Frozen-Inspiration-Coloring-Supplies/dp/B07P6RFWK4/ref=zg_bs_toys-and-games_41/142-7709922-0898351?_encoding=UTF8&psc=1&refRID=32FC4FT5Z2RNRFT7J15Z Crayola Frozen 2 Inspiration Art Case, 100 Art & Coloring Supplies, Easter Gift for Age 5, 6, 7, 8 $27.99\n",
      "https://www.amazon.com/Playskool-Classic-Spinning-Activity-Toddlers/dp/B00YTWEMUO/ref=zg_bs_toys-and-games_17/142-7709922-0898351?_encoding=UTF8&psc=1&refRID=32FC4FT5Z2RNRFT7J15Z Playskool Sit ‘n Spin Classic Spinning Activity Toy for Toddlers Ages Over 18 Months (Amazon Exclusive),Multicolor $34.99\n"
     ]
    },
    {
     "data": {
      "text/plain": [
       "[{'url': 'https://www.amazon.com/Tamagotchi-42881-Original-90s/dp/B08XWNK5TF/ref=zg_bs_toys-and-games_10/142-7709922-0898351?_encoding=UTF8&psc=1&refRID=32FC4FT5Z2RNRFT7J15Z',\n",
       "  'product_id': 'B08XWNK5TF',\n",
       "  'title': 'Original Tamagotchi - 90s',\n",
       "  'price': '$19.99'},\n",
       " {'url': 'https://www.amazon.com/Family-Sturdy-Storage-Travel-Friendly-Exclusive/dp/B07P6MZPK3/ref=zg_bs_toys-and-games_34/142-7709922-0898351?_encoding=UTF8&psc=1&refRID=32FC4FT5Z2RNRFT7J15Z',\n",
       "  'product_id': 'B07P6MZPK3',\n",
       "  'title': 'UNO Family Card Game, with 112 Cards in a Sturdy Storage Tin, Travel-Friendly, Makes a Great Gift for 7 Year Olds and Up [Amazon Exclusive]',\n",
       "  'price': '$9.99'},\n",
       " {'url': 'https://www.amazon.com/SHASHIBO-Shifting-Geometric-Magnetic-Transforming/dp/B07W7FLKRW/ref=zg_bs_toys-and-games_1/142-7709922-0898351?_encoding=UTF8&psc=1&refRID=32FC4FT5Z2RNRFT7J15Z',\n",
       "  'product_id': 'B07W7FLKRW',\n",
       "  'title': None,\n",
       "  'price': None},\n",
       " {'url': 'https://www.amazon.com/Capsule-1-Collectible-Toy-Limited/dp/B09M4999VY/ref=zg_bs_toys-and-games_9/142-7709922-0898351?_encoding=UTF8&psc=1&refRID=32FC4FT5Z2RNRFT7J15Z',\n",
       "  'product_id': 'B09M4999VY',\n",
       "  'title': None,\n",
       "  'price': None},\n",
       " {'url': 'https://www.amazon.com/Twister-Ultimate-Colored-Compatible-Exclusive/dp/B01ALHAEWA/ref=zg_bs_toys-and-games_19/142-7709922-0898351?_encoding=UTF8&psc=1&refRID=32FC4FT5Z2RNRFT7J15Z',\n",
       "  'product_id': 'B01ALHAEWA',\n",
       "  'title': 'Twister Ultimate: Bigger Mat, More Colored Spots, Family, Kids Party Game Age 6+; Compatible with Alexa (Amazon Exclusive)',\n",
       "  'price': '$19.99'},\n",
       " {'url': 'https://www.amazon.com/Crayola-Ultimate-Drawing-Tablet-Amazon/dp/B084Y6DJ1Z/ref=zg_bs_toys-and-games_36/142-7709922-0898351?_encoding=UTF8&psc=1&refRID=32FC4FT5Z2RNRFT7J15Z',\n",
       "  'product_id': 'B084Y6DJ1Z',\n",
       "  'title': 'Crayola Ultimate Light Board Blue, Drawing Tablet, Amazon for Kids, Age 6, 7, 8, 9',\n",
       "  'price': '$27.99'},\n",
       " {'url': 'https://www.amazon.com/Exploding-Kittens-LLC-EKG-ORG1-1-Card/dp/B010TQY7A8/ref=zg_bs_toys-and-games_44/142-7709922-0898351?_encoding=UTF8&psc=1&refRID=32FC4FT5Z2RNRFT7J15Z',\n",
       "  'product_id': 'B010TQY7A8',\n",
       "  'title': 'Exploding Kittens - A Russian Roulette Card Game, Easy Family-Friendly Party Games - Card Games for Adults, Teens & Kids - 2-5 Players',\n",
       "  'price': '$19.82'},\n",
       " {'url': 'https://www.amazon.com/Crayola-Tracing-Eye-Soft-Technology-Amazon/dp/B083FKQ1MX/ref=zg_bs_toys-and-games_4/142-7709922-0898351?_encoding=UTF8&psc=1&refRID=32FC4FT5Z2RNRFT7J15Z',\n",
       "  'product_id': 'B083FKQ1MX',\n",
       "  'title': 'Crayola Light Up Tracing Pad with Eye-Soft Technology, Amazon Exclusive, Gift, Ages 6, 7, 8, 9, 10',\n",
       "  'price': '$27.99'},\n",
       " {'url': 'https://www.amazon.com/Hasbro-Gaming-98936-Hungry-Hippos/dp/B008FD8ETS/ref=zg_bs_toys-and-games_47/142-7709922-0898351?_encoding=UTF8&psc=1&refRID=32FC4FT5Z2RNRFT7J15Z',\n",
       "  'product_id': 'B008FD8ETS',\n",
       "  'title': None,\n",
       "  'price': None},\n",
       " {'url': 'https://www.amazon.com/Crayola-Twistables-Crayons-Exclusive-Stocking/dp/B07D4T2XKB/ref=zg_bs_toys-and-games_35/142-7709922-0898351?_encoding=UTF8&psc=1&refRID=32FC4FT5Z2RNRFT7J15Z',\n",
       "  'product_id': 'B07D4T2XKB',\n",
       "  'title': 'Crayola Twistables Crayons Coloring Set, Kids Craft Supplies, Gift, 50 Count',\n",
       "  'price': '$12.49'},\n",
       " {'url': 'https://www.amazon.com/LeapFrog-80-609540-100-Animals-Book/dp/B085KTQKNC/ref=zg_bs_toys-and-games_2/142-7709922-0898351?_encoding=UTF8&psc=1&refRID=32FC4FT5Z2RNRFT7J15Z',\n",
       "  'product_id': 'B085KTQKNC',\n",
       "  'title': 'LeapFrog 100 Animals Book, Green',\n",
       "  'price': '$15.99'},\n",
       " {'url': 'https://www.amazon.com/Cocomelon-Musical-Bedtime-Plush-Tummy/dp/B0855NLMWL/ref=zg_bs_toys-and-games_20/142-7709922-0898351?_encoding=UTF8&psc=1&refRID=32FC4FT5Z2RNRFT7J15Z',\n",
       "  'product_id': 'B0855NLMWL',\n",
       "  'title': 'CoComelon Official Musical Bedtime JJ Doll, Soft Plush Body – Press Tummy and JJ sings clips from ‘Yes, Yes, Bedtime Song,’ – Includes Feature Plush and Small Pillow Plush Teddy Bear – Toys for Babies',\n",
       "  'price': '$19.97'},\n",
       " {'url': 'https://www.amazon.com/LEGO-Dinosaurs-31058-Pterodactyl-Triceratops/dp/B01KJEOCDW/ref=zg_bs_toys-and-games_11/142-7709922-0898351?_encoding=UTF8&psc=1&refRID=32FC4FT5Z2RNRFT7J15Z',\n",
       "  'product_id': 'B01KJEOCDW',\n",
       "  'title': None,\n",
       "  'price': None},\n",
       " {'url': 'https://www.amazon.com/Made-Me-Halloween-Projects-Suncatcher/dp/B09CR8L4CG/ref=zg_bs_toys-and-games_22/142-7709922-0898351?_encoding=UTF8&psc=1&refRID=32FC4FT5Z2RNRFT7J15Z',\n",
       "  'product_id': 'B09CR8L4CG',\n",
       "  'title': 'Made By Me Create Your Own Halloween Window Art by Horizon Group USA, Make 20 Projects, Includes Suncatcher Frames & Window Clings, Glow-in-The-Dark Paint, Paint Tubes, Suction Cups & Cording,Multi',\n",
       "  'price': '$12.99'},\n",
       " {'url': 'https://www.amazon.com/LEGO-Potter-Calendar-Including-Minifigures/dp/B093132296/ref=zg_bs_toys-and-games_48/142-7709922-0898351?_encoding=UTF8&psc=1&refRID=32FC4FT5Z2RNRFT7J15Z',\n",
       "  'product_id': 'B093132296',\n",
       "  'title': None,\n",
       "  'price': None},\n",
       " {'url': 'https://www.amazon.com/Sassy-Stacks-Circles-Stacking-Learning/dp/B07NXDJ52C/ref=zg_bs_toys-and-games_16/142-7709922-0898351?_encoding=UTF8&psc=1&refRID=32FC4FT5Z2RNRFT7J15Z',\n",
       "  'product_id': 'B07NXDJ52C',\n",
       "  'title': 'Stacks of Circles Stacking Ring STEM Learning Toy, Age 6+ Months, Multi, 9 Piece Set',\n",
       "  'price': '$6.99'},\n",
       " {'url': 'https://www.amazon.com/Hasbro-Gaming-Kingdom-Adventures-Exclusive/dp/B00000DMF5/ref=zg_bs_toys-and-games_45/142-7709922-0898351?_encoding=UTF8&psc=1&refRID=32FC4FT5Z2RNRFT7J15Z',\n",
       "  'product_id': 'B00000DMF5',\n",
       "  'title': 'Hasbro Gaming Candy Land Kingdom Of Sweet Adventures Board Game For Kids Ages 3 & Up (Amazon Exclusive),Red,Original version',\n",
       "  'price': '$12.99'},\n",
       " {'url': 'https://www.amazon.com/Bravokids-Writing-Electronic-Educational-Birthday/dp/B083BG4MXC/ref=zg_bs_toys-and-games_5/142-7709922-0898351?_encoding=UTF8&psc=1&refRID=32FC4FT5Z2RNRFT7J15Z',\n",
       "  'product_id': 'B083BG4MXC',\n",
       "  'title': None,\n",
       "  'price': None},\n",
       " {'url': 'https://www.amazon.com/Dinosaur-Construction-Building-Electric-Birthday/dp/B08PCVYDZG/ref=zg_bs_toys-and-games_7/142-7709922-0898351?_encoding=UTF8&psc=1&refRID=32FC4FT5Z2RNRFT7J15Z',\n",
       "  'product_id': 'B08PCVYDZG',\n",
       "  'title': 'Dinosaur Toys for 3 4 5 6 7 Year Old Boys, Take Apart Dinosaur Toys for Kids 3-5 5-7 STEM Construction Building Kids Toys with Electric Drill, Dinosaur Toys Christmas Birthday Gifts Boys Girls',\n",
       "  'price': '$23.75'},\n",
       " {'url': 'https://www.amazon.com/TeeTurtle-Reversible-Octopus-Plushie-Patented/dp/B092P3LW22/ref=zg_bs_toys-and-games_3/142-7709922-0898351?_encoding=UTF8&psc=1&refRID=32FC4FT5Z2RNRFT7J15Z',\n",
       "  'product_id': 'B092P3LW22',\n",
       "  'title': 'TeeTurtle | The Moody Reversible Octopus Plushie | Patented Design | Sensory Fidget Toy for Stress Relief | Light Pink + Pink | Angry + Rage | Show Your Mood Without Saying a Word!',\n",
       "  'price': '$15.00'},\n",
       " {'url': 'https://www.amazon.com/Really-Family-Conversation-Starters-Challenges/dp/B087CBJ465/ref=zg_bs_toys-and-games_30/142-7709922-0898351?_encoding=UTF8&psc=1&refRID=32FC4FT5Z2RNRFT7J15Z',\n",
       "  'product_id': 'B087CBJ465',\n",
       "  'title': 'Do You Really Know Your Family? A Fun Family Game Filled with Conversation Starters and Challenges - Great for Kids, Teens and Adults',\n",
       "  'price': '$24.99'},\n",
       " {'url': 'https://www.amazon.com/Disney-Classic-Characters-Matching-Game/dp/B007DW6F34/ref=zg_bs_toys-and-games_33/142-7709922-0898351?_encoding=UTF8&psc=1&refRID=32FC4FT5Z2RNRFT7J15Z',\n",
       "  'product_id': 'B007DW6F34',\n",
       "  'title': 'Wonder Forge Disney Classic Characters Matching Game for Boys & Girls Age 3 to 5 - A Fun & Fast Disney Memory Game , Blue',\n",
       "  'price': '$11.99'},\n",
       " {'url': 'https://www.amazon.com/Crayola-Lights-Musical-Doodle-Toddler/dp/B077BS24FS/ref=zg_bs_toys-and-games_8/142-7709922-0898351?_encoding=UTF8&psc=1&refRID=32FC4FT5Z2RNRFT7J15Z',\n",
       "  'product_id': 'B077BS24FS',\n",
       "  'title': 'My First Crayola Touch Lights, Musical Doodle Board, Toddler Toy, Gift, White, Green',\n",
       "  'price': '$19.97'},\n",
       " {'url': 'https://www.amazon.com/Hasbro-Gaming-C1009-Monopoly-Classic/dp/B01MU9K3XU/ref=zg_bs_toys-and-games_map_42/142-7709922-0898351?_encoding=UTF8&psc=1&refRID=32FC4FT5Z2RNRFT7J15Z',\n",
       "  'product_id': 'B01MU9K3XU',\n",
       "  'title': None,\n",
       "  'price': None},\n",
       " {'url': 'https://www.amazon.com/Mega-Bloks-80-Piece-Building-Classic/dp/B007GE75HY/ref=zg_bs_toys-and-games_38/142-7709922-0898351?_encoding=UTF8&psc=1&refRID=32FC4FT5Z2RNRFT7J15Z',\n",
       "  'product_id': 'B007GE75HY',\n",
       "  'title': 'Mega Bloks First Builders Big Building Bag with Big Building Blocks, Building Toys for Toddlers (80 Pieces) - Blue Bag 3-5 years',\n",
       "  'price': '$13.59'},\n",
       " {'url': 'https://www.amazon.com/Nuby-Floating-Purple-Octopus-Interactive/dp/B083ZZSGLR/ref=zg_bs_toys-and-games_23/142-7709922-0898351?_encoding=UTF8&psc=1&refRID=32FC4FT5Z2RNRFT7J15Z',\n",
       "  'product_id': 'B083ZZSGLR',\n",
       "  'title': 'Nuby Floating Purple Octopus with 3 Hoopla Rings Interactive Bath Toy',\n",
       "  'price': '$8.99'},\n",
       " {'url': 'https://www.amazon.com/Taco-Cat-Goat-Cheese-Pizza/dp/B077Z1R28P/ref=zg_bs_toys-and-games_14/142-7709922-0898351?_encoding=UTF8&psc=1&refRID=32FC4FT5Z2RNRFT7J15Z',\n",
       "  'product_id': 'B077Z1R28P',\n",
       "  'title': 'Taco Cat Goat Cheese Pizza',\n",
       "  'price': '$8.76'},\n",
       " {'url': 'https://www.amazon.com/Hasbro-A5640-Connect-4-Game/dp/B00D8STBHY/ref=zg_bs_toys-and-games_18/142-7709922-0898351?_encoding=UTF8&psc=1&refRID=32FC4FT5Z2RNRFT7J15Z',\n",
       "  'product_id': 'B00D8STBHY',\n",
       "  'title': None,\n",
       "  'price': None},\n",
       " {'url': 'https://www.amazon.com/Tara-Toys-Blues-Clues-Necklace/dp/B0959MKWVG/ref=zg_bs_toys-and-games_49/142-7709922-0898351?_encoding=UTF8&psc=1&refRID=32FC4FT5Z2RNRFT7J15Z',\n",
       "  'product_id': 'B0959MKWVG',\n",
       "  'title': 'Tara Toys Blue\\'s Clues Necklace Set, 10\" H x 9\" W x 2\" D',\n",
       "  'price': '$12.99'},\n",
       " {'url': 'https://www.amazon.com/First-Princess-Make-Kit-Everything/dp/B07FPWYY79/ref=zg_bs_toys-and-games_37/142-7709922-0898351?_encoding=UTF8&psc=1&refRID=32FC4FT5Z2RNRFT7J15Z',\n",
       "  'product_id': 'B07FPWYY79',\n",
       "  'title': 'FoxPrint My First Princess Make Up Kit - 12 Pc Kids Makeup Set Washable Makeup For Girls These Makeup Toys for Girls Include All Your Princess Needs To Play Dress Up Comes with Stylish Bag',\n",
       "  'price': '$13.40'},\n",
       " {'url': 'https://www.amazon.com/Hasbro-Gaming-C1009-Monopoly-Classic/dp/B01MU9K3XU/ref=zg_bs_toys-and-games_42/142-7709922-0898351?_encoding=UTF8&psc=1&refRID=32FC4FT5Z2RNRFT7J15Z',\n",
       "  'product_id': 'B01MU9K3XU',\n",
       "  'title': None,\n",
       "  'price': None},\n",
       " {'url': 'https://www.amazon.com/Fisher-Price-Rattle-Rock-Maracas-Orange/dp/B071FLSWBS/ref=zg_bs_toys-and-games_12/142-7709922-0898351?_encoding=UTF8&psc=1&refRID=32FC4FT5Z2RNRFT7J15Z',\n",
       "  'product_id': 'B071FLSWBS',\n",
       "  'title': \"Fisher-Price Rattle 'n Rock Maracas, Blue/Orange [Amazon Exclusive] 2 Count (Pack of 1)\",\n",
       "  'price': '$5.94'},\n",
       " {'url': 'https://www.amazon.com/Skillmatics-Educational-Game-Questions-Knowledge/dp/B07RMJ8SG6/ref=zg_bs_toys-and-games_27/142-7709922-0898351?_encoding=UTF8&psc=1&refRID=32FC4FT5Z2RNRFT7J15Z',\n",
       "  'product_id': 'B07RMJ8SG6',\n",
       "  'title': None,\n",
       "  'price': None},\n",
       " {'url': 'https://www.amazon.com/AMERFIST-Controller-Spinner-Rotating-Spinning/dp/B09J4S2BT8/ref=zg_bs_toys-and-games_29/142-7709922-0898351?_encoding=UTF8&psc=1&refRID=32FC4FT5Z2RNRFT7J15Z',\n",
       "  'product_id': 'B09J4S2BT8',\n",
       "  'title': None,\n",
       "  'price': None},\n",
       " {'url': 'https://www.amazon.com/LEGO-Classic-Medium-Creative-Brick/dp/B00NHQFA1I/ref=zg_bs_toys-and-games_43/142-7709922-0898351?_encoding=UTF8&psc=1&refRID=32FC4FT5Z2RNRFT7J15Z',\n",
       "  'product_id': 'B00NHQFA1I',\n",
       "  'title': None,\n",
       "  'price': None},\n",
       " {'url': 'https://www.amazon.com/Poppers-Figetget-Spinners-Infinity-Autistic/dp/B0973R7JMP/ref=zg_bs_toys-and-games_15/142-7709922-0898351?_encoding=UTF8&psc=1&refRID=32FC4FT5Z2RNRFT7J15Z',\n",
       "  'product_id': 'B0973R7JMP',\n",
       "  'title': '(50 Pcs) Fidget Poppers Popit Toy Pack Push Pop Bubble Popping Set It Mini Poppet Figit Package Figetget Spinners, Infinity Rubiks Cube Stress Relief Balls w Sensory Toys for Autistic ADHD Kids Girls',\n",
       "  'price': '$34.95'},\n",
       " {'url': 'https://www.amazon.com/Flybar-Jumper-Toddlers-Durable-Supports/dp/B00WTDXSDM/ref=zg_bs_toys-and-games_21/142-7709922-0898351?_encoding=UTF8&psc=1&refRID=32FC4FT5Z2RNRFT7J15Z',\n",
       "  'product_id': 'B00WTDXSDM',\n",
       "  'title': 'Flybar My First Foam Pogo Jumper for Kids Fun and Safe Pogo Stick for Toddlers, Durable Foam and Bungee Jumper for Ages 3 and up, Supports up to 250lbs',\n",
       "  'price': '$16.99'},\n",
       " {'url': 'https://www.amazon.com/Seckton-Upgrade-Birthday-Portable-Card-Blue/dp/B087ZTH98B/ref=zg_bs_toys-and-games_28/142-7709922-0898351?_encoding=UTF8&psc=1&refRID=32FC4FT5Z2RNRFT7J15Z',\n",
       "  'product_id': 'B087ZTH98B',\n",
       "  'title': 'Seckton Upgrade Kids Selfie Camera, Christmas Birthday Gifts for Boys Age 3-9, HD Digital Video Cameras for Toddler, Portable Toy for 3 4 5 6 7 8 Year Old Boy with 32GB SD Card-Blue',\n",
       "  'price': '$42.99'},\n",
       " {'url': 'https://www.amazon.com/LEGO-Minecraft-Abandoned-Playset-Figures/dp/B08HW1ZNW5/ref=zg_bs_toys-and-games_46/142-7709922-0898351?_encoding=UTF8&psc=1&refRID=32FC4FT5Z2RNRFT7J15Z',\n",
       "  'product_id': 'B08HW1ZNW5',\n",
       "  'title': None,\n",
       "  'price': None},\n",
       " {'url': 'https://www.amazon.com/ThinkFun-Gravity-Marble-Logic-Girls/dp/B00IUAAK2A/ref=zg_bs_toys-and-games_6/142-7709922-0898351?_encoding=UTF8&psc=1&refRID=32FC4FT5Z2RNRFT7J15Z',\n",
       "  'product_id': 'B00IUAAK2A',\n",
       "  'title': 'ThinkFun Gravity Maze Marble Run Brain Game and STEM Toy for Boys and Girls Age 8 and Up – Toy of the Year Award Winner',\n",
       "  'price': '$29.99'},\n",
       " {'url': 'https://www.amazon.com/Kids-Against-Maturity-Original-Humanity/dp/B076PRWVFG/ref=zg_bs_toys-and-games_50/142-7709922-0898351?_encoding=UTF8&psc=1&refRID=32FC4FT5Z2RNRFT7J15Z',\n",
       "  'product_id': 'B076PRWVFG',\n",
       "  'title': 'Kids Against Maturity: Card Game for Kids and Families, Super Fun Hilarious for Family Party Game Night',\n",
       "  'price': '$29.99'},\n",
       " {'url': 'https://www.amazon.com/Beat-That-Bonkers-Battle-Challenges/dp/B07Z5BRRF7/ref=zg_bs_toys-and-games_39/142-7709922-0898351?_encoding=UTF8&psc=1&refRID=32FC4FT5Z2RNRFT7J15Z',\n",
       "  'product_id': 'B07Z5BRRF7',\n",
       "  'title': 'Beat That! - The Bonkers Battle of Wacky Challenges [Family Party Game for Kids & Adults]',\n",
       "  'price': '$24.99'},\n",
       " {'url': 'https://www.amazon.com/Taco-Burrito-Popular-Surprisingly-Strategic/dp/B07JZTBV9C/ref=zg_bs_toys-and-games_31/142-7709922-0898351?_encoding=UTF8&psc=1&refRID=32FC4FT5Z2RNRFT7J15Z',\n",
       "  'product_id': 'B07JZTBV9C',\n",
       "  'title': 'Taco vs Burrito - The Wildly Popular Surprisingly Strategic Card Game Created by a 7 Year Old',\n",
       "  'price': '$19.99'},\n",
       " {'url': 'https://www.amazon.com/BUNMO-Pop-Tubes-Sensory-Toy/dp/B07MBW6JNL/ref=zg_bs_toys-and-games_13/142-7709922-0898351?_encoding=UTF8&psc=1&refRID=32FC4FT5Z2RNRFT7J15Z',\n",
       "  'product_id': 'B07MBW6JNL',\n",
       "  'title': 'BunMo Pop Tubes Sensory Toys, Fine Motor Skills Stocking Stuffers Toddler Toys, Fidget Toys for Sensory Kids and Stocking Stuffers for Kids Learning Toys',\n",
       "  'price': '$5.99'},\n",
       " {'url': 'https://www.amazon.com/Hasbro-A5640-Connect-4-Game/dp/B00D8STBHY/ref=zg_bs_toys-and-games_map_18/142-7709922-0898351?_encoding=UTF8&psc=1&refRID=32FC4FT5Z2RNRFT7J15Z',\n",
       "  'product_id': 'B00D8STBHY',\n",
       "  'title': None,\n",
       "  'price': None},\n",
       " {'url': 'https://www.amazon.com/Hasbro-A5064-Trouble-Game/dp/B00D7OAOYI/ref=zg_bs_toys-and-games_40/142-7709922-0898351?_encoding=UTF8&psc=1&refRID=32FC4FT5Z2RNRFT7J15Z',\n",
       "  'product_id': 'B00D7OAOYI',\n",
       "  'title': None,\n",
       "  'price': None},\n",
       " {'url': 'https://www.amazon.com/VTech-Balls-Bulldozer-Amazon-Exclusive/dp/B07427NSPK/ref=zg_bs_toys-and-games_26/142-7709922-0898351?_encoding=UTF8&psc=1&refRID=32FC4FT5Z2RNRFT7J15Z',\n",
       "  'product_id': 'B07427NSPK',\n",
       "  'title': 'VTech Pop-a-Balls Push and Pop Bulldozer Amazon Exclusive,Red',\n",
       "  'price': '$26.36'},\n",
       " {'url': 'https://www.amazon.com/TECH-DECK-Skatepark-Customizable-Fingerboard/dp/B08SR8FBWQ/ref=zg_bs_toys-and-games_24/142-7709922-0898351?_encoding=UTF8&psc=1&refRID=32FC4FT5Z2RNRFT7J15Z',\n",
       "  'product_id': 'B08SR8FBWQ',\n",
       "  'title': 'TECH DECK, Nyjah Skatepark X-Connect Park Creator, Massive Customizable Skatepark Ramp Set with Exclusive Fingerboard, Kids Toy for Ages 6 and up',\n",
       "  'price': '$24.97'},\n",
       " {'url': 'https://www.amazon.com/Slinky-60100-Original-Brand/dp/B00000IZKX/ref=zg_bs_toys-and-games_32/142-7709922-0898351?_encoding=UTF8&psc=1&refRID=32FC4FT5Z2RNRFT7J15Z',\n",
       "  'product_id': 'B00000IZKX',\n",
       "  'title': 'The Original Slinky Walking Spring Toy, Metal Slinky, Fidget Toys, Party Favors and Gifts, Toys for 5 Year Old Girls and Boys, by Just Play',\n",
       "  'price': '$3.49'},\n",
       " {'url': 'https://www.amazon.com/Crayola-Frozen-Inspiration-Coloring-Supplies/dp/B07P6RFWK4/ref=zg_bs_toys-and-games_41/142-7709922-0898351?_encoding=UTF8&psc=1&refRID=32FC4FT5Z2RNRFT7J15Z',\n",
       "  'product_id': 'B07P6RFWK4',\n",
       "  'title': 'Crayola Frozen 2 Inspiration Art Case, 100 Art & Coloring Supplies, Easter Gift for Age 5, 6, 7, 8',\n",
       "  'price': '$27.99'},\n",
       " {'url': 'https://www.amazon.com/Playskool-Classic-Spinning-Activity-Toddlers/dp/B00YTWEMUO/ref=zg_bs_toys-and-games_17/142-7709922-0898351?_encoding=UTF8&psc=1&refRID=32FC4FT5Z2RNRFT7J15Z',\n",
       "  'product_id': 'B00YTWEMUO',\n",
       "  'title': 'Playskool Sit ‘n Spin Classic Spinning Activity Toy for Toddlers Ages Over 18 Months (Amazon Exclusive),Multicolor',\n",
       "  'price': '$34.99'}]"
      ]
     },
     "execution_count": 26,
     "metadata": {},
     "output_type": "execute_result"
    }
   ],
   "source": [
    "perform_scrape(cleaned_items=cleaned_links)"
   ]
  },
  {
   "cell_type": "code",
   "execution_count": null,
   "id": "9b725b5a-2d2c-4ff0-a779-d654c2092f2a",
   "metadata": {},
   "outputs": [],
   "source": []
  }
 ],
 "metadata": {
  "kernelspec": {
   "display_name": "Python 3 (ipykernel)",
   "language": "python",
   "name": "python3"
  },
  "language_info": {
   "codemirror_mode": {
    "name": "ipython",
    "version": 3
   },
   "file_extension": ".py",
   "mimetype": "text/x-python",
   "name": "python",
   "nbconvert_exporter": "python",
   "pygments_lexer": "ipython3",
   "version": "3.7.6"
  }
 },
 "nbformat": 4,
 "nbformat_minor": 5
}
